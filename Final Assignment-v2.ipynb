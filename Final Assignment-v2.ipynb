{
 "cells": [
  {
   "cell_type": "markdown",
   "id": "aa8aa0e4-c160-44a5-8df9-e82ed42c6b06",
   "metadata": {},
   "source": [
    "<p style=\"text-align:center\">\n",
    "    <a href=\"https://skills.network/?utm_medium=Exinfluencer&utm_source=Exinfluencer&utm_content=000026UJ&utm_term=10006555&utm_id=NA-SkillsNetwork-Channel-SkillsNetworkCoursesIBMDeveloperSkillsNetworkPY0220ENSkillsNetwork900-2022-01-01\" target=\"_blank\">\n",
    "    <img src=\"https://cf-courses-data.s3.us.cloud-object-storage.appdomain.cloud/assets/logos/SN_web_lightmode.png\" width=\"200\" alt=\"Skills Network Logo\">\n",
    "    </a>\n",
    "</p>\n"
   ]
  },
  {
   "cell_type": "markdown",
   "id": "1d3a9356-9bb6-4687-b814-ae027f85e897",
   "metadata": {},
   "source": [
    "<h1>Extracting and Visualizing Stock Data</h1>\n",
    "<h2>Description</h2>\n"
   ]
  },
  {
   "cell_type": "markdown",
   "id": "344151ad-fd7d-4134-b788-33f367bfb573",
   "metadata": {},
   "source": [
    "Extracting essential data from a dataset and displaying it is a necessary part of data science; therefore individuals can make correct decisions based on the data. In this assignment, you will extract some stock data, you will then display this data in a graph.\n"
   ]
  },
  {
   "cell_type": "markdown",
   "id": "e9087baa-a68d-40fe-9907-a55b169dac53",
   "metadata": {},
   "source": [
    "<h2>Table of Contents</h2>\n",
    "<div class=\"alert alert-block alert-info\" style=\"margin-top: 20px\">\n",
    "    <ul>\n",
    "        <li>Define a Function that Makes a Graph</li>\n",
    "        <li>Question 1: Use yfinance to Extract Stock Data</li>\n",
    "        <li>Question 2: Use Webscraping to Extract Tesla Revenue Data</li>\n",
    "        <li>Question 3: Use yfinance to Extract Stock Data</li>\n",
    "        <li>Question 4: Use Webscraping to Extract GME Revenue Data</li>\n",
    "        <li>Question 5: Plot Tesla Stock Graph</li>\n",
    "        <li>Question 6: Plot GameStop Stock Graph</li>\n",
    "    </ul>\n",
    "<p>\n",
    "    Estimated Time Needed: <strong>30 min</strong></p>\n",
    "</div>\n",
    "\n",
    "<hr>\n"
   ]
  },
  {
   "cell_type": "markdown",
   "id": "e6eaace9-2c12-42d4-bf9b-3d36f576bdde",
   "metadata": {},
   "source": [
    "***Note***:- If you are working Locally using anaconda, please uncomment the following code and execute it.\n",
    "Use the version as per your python version.\n"
   ]
  },
  {
   "cell_type": "code",
   "execution_count": 1,
   "id": "d2b75b7d-f92e-48f4-b4ca-71b67afe7b32",
   "metadata": {},
   "outputs": [
    {
     "ename": "KeyboardInterrupt",
     "evalue": "",
     "output_type": "error",
     "traceback": [
      "\u001b[31m---------------------------------------------------------------------------\u001b[39m",
      "\u001b[31mKeyboardInterrupt\u001b[39m                         Traceback (most recent call last)",
      "\u001b[36mCell\u001b[39m\u001b[36m \u001b[39m\u001b[32mIn[1]\u001b[39m\u001b[32m, line 1\u001b[39m\n\u001b[32m----> \u001b[39m\u001b[32m1\u001b[39m \u001b[43mget_ipython\u001b[49m\u001b[43m(\u001b[49m\u001b[43m)\u001b[49m\u001b[43m.\u001b[49m\u001b[43msystem\u001b[49m\u001b[43m(\u001b[49m\u001b[33;43m'\u001b[39;49m\u001b[33;43mpip install yfinance\u001b[39;49m\u001b[33;43m'\u001b[39;49m\u001b[43m)\u001b[49m\n\u001b[32m      2\u001b[39m get_ipython().system(\u001b[33m'\u001b[39m\u001b[33mpip install bs4\u001b[39m\u001b[33m'\u001b[39m)\n\u001b[32m      3\u001b[39m get_ipython().system(\u001b[33m'\u001b[39m\u001b[33mpip install nbformat\u001b[39m\u001b[33m'\u001b[39m)\n",
      "\u001b[36mFile \u001b[39m\u001b[32m~\\AppData\\Roaming\\Python\\Python313\\site-packages\\ipykernel\\zmqshell.py:683\u001b[39m, in \u001b[36mZMQInteractiveShell.system_piped\u001b[39m\u001b[34m(self, cmd)\u001b[39m\n\u001b[32m    681\u001b[39m         \u001b[38;5;28;01mif\u001b[39;00m path \u001b[38;5;129;01mis\u001b[39;00m \u001b[38;5;129;01mnot\u001b[39;00m \u001b[38;5;28;01mNone\u001b[39;00m:\n\u001b[32m    682\u001b[39m             cmd = \u001b[33mf\u001b[39m\u001b[33m\"\u001b[39m\u001b[33mpushd \u001b[39m\u001b[38;5;132;01m{\u001b[39;00mpath\u001b[38;5;132;01m}\u001b[39;00m\u001b[33m &&\u001b[39m\u001b[38;5;132;01m{\u001b[39;00mcmd\u001b[38;5;132;01m}\u001b[39;00m\u001b[33m\"\u001b[39m\n\u001b[32m--> \u001b[39m\u001b[32m683\u001b[39m         \u001b[38;5;28mself\u001b[39m.user_ns[\u001b[33m\"\u001b[39m\u001b[33m_exit_code\u001b[39m\u001b[33m\"\u001b[39m] = \u001b[43msystem\u001b[49m\u001b[43m(\u001b[49m\u001b[43mcmd\u001b[49m\u001b[43m)\u001b[49m\n\u001b[32m    684\u001b[39m \u001b[38;5;28;01melse\u001b[39;00m:\n\u001b[32m    685\u001b[39m     \u001b[38;5;28mself\u001b[39m.user_ns[\u001b[33m\"\u001b[39m\u001b[33m_exit_code\u001b[39m\u001b[33m\"\u001b[39m] = system(\u001b[38;5;28mself\u001b[39m.var_expand(cmd, depth=\u001b[32m1\u001b[39m))\n",
      "\u001b[36mFile \u001b[39m\u001b[32m~\\AppData\\Roaming\\Python\\Python313\\site-packages\\IPython\\utils\\_process_win32.py:138\u001b[39m, in \u001b[36msystem\u001b[39m\u001b[34m(cmd)\u001b[39m\n\u001b[32m    136\u001b[39m \u001b[38;5;28;01mif\u001b[39;00m path \u001b[38;5;129;01mis\u001b[39;00m \u001b[38;5;129;01mnot\u001b[39;00m \u001b[38;5;28;01mNone\u001b[39;00m:\n\u001b[32m    137\u001b[39m     cmd = \u001b[33m'\u001b[39m\u001b[33m\"\u001b[39m\u001b[33mpushd \u001b[39m\u001b[38;5;132;01m%s\u001b[39;00m\u001b[33m &&\u001b[39m\u001b[33m\"\u001b[39m\u001b[38;5;132;01m%s\u001b[39;00m\u001b[33m'\u001b[39m % (path, cmd)\n\u001b[32m--> \u001b[39m\u001b[32m138\u001b[39m res = \u001b[43mprocess_handler\u001b[49m\u001b[43m(\u001b[49m\u001b[43mcmd\u001b[49m\u001b[43m,\u001b[49m\u001b[43m \u001b[49m\u001b[43m_system_body\u001b[49m\u001b[43m)\u001b[49m\n\u001b[32m    139\u001b[39m \u001b[38;5;28;01massert\u001b[39;00m \u001b[38;5;28misinstance\u001b[39m(res, \u001b[38;5;28mint\u001b[39m | \u001b[38;5;28mtype\u001b[39m(\u001b[38;5;28;01mNone\u001b[39;00m))\n\u001b[32m    140\u001b[39m \u001b[38;5;28;01mreturn\u001b[39;00m res\n",
      "\u001b[36mFile \u001b[39m\u001b[32m~\\AppData\\Roaming\\Python\\Python313\\site-packages\\IPython\\utils\\_process_common.py:85\u001b[39m, in \u001b[36mprocess_handler\u001b[39m\u001b[34m(cmd, callback, stderr)\u001b[39m\n\u001b[32m     83\u001b[39m \u001b[38;5;28;01mif\u001b[39;00m shell \u001b[38;5;129;01mand\u001b[39;00m os.name == \u001b[33m'\u001b[39m\u001b[33mposix\u001b[39m\u001b[33m'\u001b[39m \u001b[38;5;129;01mand\u001b[39;00m \u001b[33m'\u001b[39m\u001b[33mSHELL\u001b[39m\u001b[33m'\u001b[39m \u001b[38;5;129;01min\u001b[39;00m os.environ:\n\u001b[32m     84\u001b[39m     executable = os.environ[\u001b[33m'\u001b[39m\u001b[33mSHELL\u001b[39m\u001b[33m'\u001b[39m]\n\u001b[32m---> \u001b[39m\u001b[32m85\u001b[39m p = \u001b[43msubprocess\u001b[49m\u001b[43m.\u001b[49m\u001b[43mPopen\u001b[49m\u001b[43m(\u001b[49m\u001b[43mcmd\u001b[49m\u001b[43m,\u001b[49m\u001b[43m \u001b[49m\u001b[43mshell\u001b[49m\u001b[43m=\u001b[49m\u001b[43mshell\u001b[49m\u001b[43m,\u001b[49m\n\u001b[32m     86\u001b[39m \u001b[43m                     \u001b[49m\u001b[43mexecutable\u001b[49m\u001b[43m=\u001b[49m\u001b[43mexecutable\u001b[49m\u001b[43m,\u001b[49m\n\u001b[32m     87\u001b[39m \u001b[43m                     \u001b[49m\u001b[43mstdin\u001b[49m\u001b[43m=\u001b[49m\u001b[43msubprocess\u001b[49m\u001b[43m.\u001b[49m\u001b[43mPIPE\u001b[49m\u001b[43m,\u001b[49m\n\u001b[32m     88\u001b[39m \u001b[43m                     \u001b[49m\u001b[43mstdout\u001b[49m\u001b[43m=\u001b[49m\u001b[43msubprocess\u001b[49m\u001b[43m.\u001b[49m\u001b[43mPIPE\u001b[49m\u001b[43m,\u001b[49m\n\u001b[32m     89\u001b[39m \u001b[43m                     \u001b[49m\u001b[43mstderr\u001b[49m\u001b[43m=\u001b[49m\u001b[43mstderr\u001b[49m\u001b[43m,\u001b[49m\n\u001b[32m     90\u001b[39m \u001b[43m                     \u001b[49m\u001b[43mclose_fds\u001b[49m\u001b[43m=\u001b[49m\u001b[43mclose_fds\u001b[49m\u001b[43m)\u001b[49m\n\u001b[32m     92\u001b[39m \u001b[38;5;28;01mtry\u001b[39;00m:\n\u001b[32m     93\u001b[39m     out = callback(p)\n",
      "\u001b[36mFile \u001b[39m\u001b[32mc:\\Users\\hasso\\AppData\\Local\\Programs\\Python\\Python313\\Lib\\subprocess.py:1039\u001b[39m, in \u001b[36mPopen.__init__\u001b[39m\u001b[34m(self, args, bufsize, executable, stdin, stdout, stderr, preexec_fn, close_fds, shell, cwd, env, universal_newlines, startupinfo, creationflags, restore_signals, start_new_session, pass_fds, user, group, extra_groups, encoding, errors, text, umask, pipesize, process_group)\u001b[39m\n\u001b[32m   1035\u001b[39m         \u001b[38;5;28;01mif\u001b[39;00m \u001b[38;5;28mself\u001b[39m.text_mode:\n\u001b[32m   1036\u001b[39m             \u001b[38;5;28mself\u001b[39m.stderr = io.TextIOWrapper(\u001b[38;5;28mself\u001b[39m.stderr,\n\u001b[32m   1037\u001b[39m                     encoding=encoding, errors=errors)\n\u001b[32m-> \u001b[39m\u001b[32m1039\u001b[39m     \u001b[38;5;28;43mself\u001b[39;49m\u001b[43m.\u001b[49m\u001b[43m_execute_child\u001b[49m\u001b[43m(\u001b[49m\u001b[43margs\u001b[49m\u001b[43m,\u001b[49m\u001b[43m \u001b[49m\u001b[43mexecutable\u001b[49m\u001b[43m,\u001b[49m\u001b[43m \u001b[49m\u001b[43mpreexec_fn\u001b[49m\u001b[43m,\u001b[49m\u001b[43m \u001b[49m\u001b[43mclose_fds\u001b[49m\u001b[43m,\u001b[49m\n\u001b[32m   1040\u001b[39m \u001b[43m                        \u001b[49m\u001b[43mpass_fds\u001b[49m\u001b[43m,\u001b[49m\u001b[43m \u001b[49m\u001b[43mcwd\u001b[49m\u001b[43m,\u001b[49m\u001b[43m \u001b[49m\u001b[43menv\u001b[49m\u001b[43m,\u001b[49m\n\u001b[32m   1041\u001b[39m \u001b[43m                        \u001b[49m\u001b[43mstartupinfo\u001b[49m\u001b[43m,\u001b[49m\u001b[43m \u001b[49m\u001b[43mcreationflags\u001b[49m\u001b[43m,\u001b[49m\u001b[43m \u001b[49m\u001b[43mshell\u001b[49m\u001b[43m,\u001b[49m\n\u001b[32m   1042\u001b[39m \u001b[43m                        \u001b[49m\u001b[43mp2cread\u001b[49m\u001b[43m,\u001b[49m\u001b[43m \u001b[49m\u001b[43mp2cwrite\u001b[49m\u001b[43m,\u001b[49m\n\u001b[32m   1043\u001b[39m \u001b[43m                        \u001b[49m\u001b[43mc2pread\u001b[49m\u001b[43m,\u001b[49m\u001b[43m \u001b[49m\u001b[43mc2pwrite\u001b[49m\u001b[43m,\u001b[49m\n\u001b[32m   1044\u001b[39m \u001b[43m                        \u001b[49m\u001b[43merrread\u001b[49m\u001b[43m,\u001b[49m\u001b[43m \u001b[49m\u001b[43merrwrite\u001b[49m\u001b[43m,\u001b[49m\n\u001b[32m   1045\u001b[39m \u001b[43m                        \u001b[49m\u001b[43mrestore_signals\u001b[49m\u001b[43m,\u001b[49m\n\u001b[32m   1046\u001b[39m \u001b[43m                        \u001b[49m\u001b[43mgid\u001b[49m\u001b[43m,\u001b[49m\u001b[43m \u001b[49m\u001b[43mgids\u001b[49m\u001b[43m,\u001b[49m\u001b[43m \u001b[49m\u001b[43muid\u001b[49m\u001b[43m,\u001b[49m\u001b[43m \u001b[49m\u001b[43mumask\u001b[49m\u001b[43m,\u001b[49m\n\u001b[32m   1047\u001b[39m \u001b[43m                        \u001b[49m\u001b[43mstart_new_session\u001b[49m\u001b[43m,\u001b[49m\u001b[43m \u001b[49m\u001b[43mprocess_group\u001b[49m\u001b[43m)\u001b[49m\n\u001b[32m   1048\u001b[39m \u001b[38;5;28;01mexcept\u001b[39;00m:\n\u001b[32m   1049\u001b[39m     \u001b[38;5;66;03m# Cleanup if the child failed starting.\u001b[39;00m\n\u001b[32m   1050\u001b[39m     \u001b[38;5;28;01mfor\u001b[39;00m f \u001b[38;5;129;01min\u001b[39;00m \u001b[38;5;28mfilter\u001b[39m(\u001b[38;5;28;01mNone\u001b[39;00m, (\u001b[38;5;28mself\u001b[39m.stdin, \u001b[38;5;28mself\u001b[39m.stdout, \u001b[38;5;28mself\u001b[39m.stderr)):\n",
      "\u001b[36mFile \u001b[39m\u001b[32mc:\\Users\\hasso\\AppData\\Local\\Programs\\Python\\Python313\\Lib\\subprocess.py:1551\u001b[39m, in \u001b[36mPopen._execute_child\u001b[39m\u001b[34m(self, args, executable, preexec_fn, close_fds, pass_fds, cwd, env, startupinfo, creationflags, shell, p2cread, p2cwrite, c2pread, c2pwrite, errread, errwrite, unused_restore_signals, unused_gid, unused_gids, unused_uid, unused_umask, unused_start_new_session, unused_process_group)\u001b[39m\n\u001b[32m   1549\u001b[39m \u001b[38;5;66;03m# Start the process\u001b[39;00m\n\u001b[32m   1550\u001b[39m \u001b[38;5;28;01mtry\u001b[39;00m:\n\u001b[32m-> \u001b[39m\u001b[32m1551\u001b[39m     hp, ht, pid, tid = \u001b[43m_winapi\u001b[49m\u001b[43m.\u001b[49m\u001b[43mCreateProcess\u001b[49m\u001b[43m(\u001b[49m\u001b[43mexecutable\u001b[49m\u001b[43m,\u001b[49m\u001b[43m \u001b[49m\u001b[43margs\u001b[49m\u001b[43m,\u001b[49m\n\u001b[32m   1552\u001b[39m \u001b[43m                             \u001b[49m\u001b[38;5;66;43;03m# no special security\u001b[39;49;00m\n\u001b[32m   1553\u001b[39m \u001b[43m                             \u001b[49m\u001b[38;5;28;43;01mNone\u001b[39;49;00m\u001b[43m,\u001b[49m\u001b[43m \u001b[49m\u001b[38;5;28;43;01mNone\u001b[39;49;00m\u001b[43m,\u001b[49m\n\u001b[32m   1554\u001b[39m \u001b[43m                             \u001b[49m\u001b[38;5;28;43mint\u001b[39;49m\u001b[43m(\u001b[49m\u001b[38;5;129;43;01mnot\u001b[39;49;00m\u001b[43m \u001b[49m\u001b[43mclose_fds\u001b[49m\u001b[43m)\u001b[49m\u001b[43m,\u001b[49m\n\u001b[32m   1555\u001b[39m \u001b[43m                             \u001b[49m\u001b[43mcreationflags\u001b[49m\u001b[43m,\u001b[49m\n\u001b[32m   1556\u001b[39m \u001b[43m                             \u001b[49m\u001b[43menv\u001b[49m\u001b[43m,\u001b[49m\n\u001b[32m   1557\u001b[39m \u001b[43m                             \u001b[49m\u001b[43mcwd\u001b[49m\u001b[43m,\u001b[49m\n\u001b[32m   1558\u001b[39m \u001b[43m                             \u001b[49m\u001b[43mstartupinfo\u001b[49m\u001b[43m)\u001b[49m\n\u001b[32m   1559\u001b[39m \u001b[38;5;28;01mfinally\u001b[39;00m:\n\u001b[32m   1560\u001b[39m     \u001b[38;5;66;03m# Child is launched. Close the parent's copy of those pipe\u001b[39;00m\n\u001b[32m   1561\u001b[39m     \u001b[38;5;66;03m# handles that only the child should have open.  You need\u001b[39;00m\n\u001b[32m   (...)\u001b[39m\u001b[32m   1564\u001b[39m     \u001b[38;5;66;03m# pipe will not close when the child process exits and the\u001b[39;00m\n\u001b[32m   1565\u001b[39m     \u001b[38;5;66;03m# ReadFile will hang.\u001b[39;00m\n\u001b[32m   1566\u001b[39m     \u001b[38;5;28mself\u001b[39m._close_pipe_fds(p2cread, p2cwrite,\n\u001b[32m   1567\u001b[39m                          c2pread, c2pwrite,\n\u001b[32m   1568\u001b[39m                          errread, errwrite)\n",
      "\u001b[31mKeyboardInterrupt\u001b[39m: "
     ]
    }
   ],
   "source": [
    "!pip install yfinance\n",
    "!pip install bs4\n",
    "!pip install nbformat\n",
    "!pip install --upgrade plotly"
   ]
  },
  {
   "cell_type": "code",
   "execution_count": 2,
   "id": "fa15990e-a652-457f-a952-9fe4f29253fe",
   "metadata": {},
   "outputs": [],
   "source": [
    "import yfinance as yf\n",
    "import pandas as pd\n",
    "import requests\n",
    "from bs4 import BeautifulSoup\n",
    "import plotly.graph_objects as go\n",
    "from plotly.subplots import make_subplots"
   ]
  },
  {
   "cell_type": "code",
   "execution_count": 3,
   "id": "e323e7d3-0195-405c-8dd7-b8c9df4c5655",
   "metadata": {},
   "outputs": [],
   "source": [
    "import plotly.io as pio\n",
    "pio.renderers.default = \"iframe\""
   ]
  },
  {
   "cell_type": "markdown",
   "id": "942167b8-1a15-4cc8-9a03-532634e82857",
   "metadata": {},
   "source": [
    "In Python, you can ignore warnings using the warnings module. You can use the filterwarnings function to filter or ignore specific warning messages or categories.\n"
   ]
  },
  {
   "cell_type": "code",
   "execution_count": 4,
   "id": "b65da356-4fdc-4443-9eb0-57fba9ff671d",
   "metadata": {},
   "outputs": [],
   "source": [
    "import warnings\n",
    "# Ignore all warnings\n",
    "warnings.filterwarnings(\"ignore\", category=FutureWarning)"
   ]
  },
  {
   "cell_type": "markdown",
   "id": "9f9dcaa0-72e0-46b8-b26c-b55d509db4bb",
   "metadata": {},
   "source": [
    "## Define Graphing Function\n"
   ]
  },
  {
   "cell_type": "markdown",
   "id": "864655e7-7876-4e50-b404-4fc3abca8bc2",
   "metadata": {},
   "source": [
    "In this section, we define the function `make_graph`. **You don't have to know how the function works, you should only care about the inputs. It takes a dataframe with stock data (dataframe must contain Date and Close columns), a dataframe with revenue data (dataframe must contain Date and Revenue columns), and the name of the stock.**\n"
   ]
  },
  {
   "cell_type": "code",
   "execution_count": 5,
   "id": "75dabe30-eeaa-4883-9e93-2489b306db51",
   "metadata": {},
   "outputs": [],
   "source": [
    "def make_graph(stock_data, revenue_data, stock):\n",
    "    fig = make_subplots(rows=2, cols=1, shared_xaxes=True, subplot_titles=(\"Historical Share Price\", \"Historical Revenue\"), vertical_spacing = .3)\n",
    "    stock_data_specific = stock_data[stock_data.Date <= '2021-06-14']\n",
    "    revenue_data_specific = revenue_data[revenue_data.Date <= '2021-04-30']\n",
    "    fig.add_trace(go.Scatter(x=pd.to_datetime(stock_data_specific.Date, infer_datetime_format=True), y=stock_data_specific.Close.astype(\"float\"), name=\"Share Price\"), row=1, col=1)\n",
    "    fig.add_trace(go.Scatter(x=pd.to_datetime(revenue_data_specific.Date, infer_datetime_format=True), y=revenue_data_specific.Revenue.astype(\"float\"), name=\"Revenue\"), row=2, col=1)\n",
    "    fig.update_xaxes(title_text=\"Date\", row=1, col=1)\n",
    "    fig.update_xaxes(title_text=\"Date\", row=2, col=1)\n",
    "    fig.update_yaxes(title_text=\"Price ($US)\", row=1, col=1)\n",
    "    fig.update_yaxes(title_text=\"Revenue ($US Millions)\", row=2, col=1)\n",
    "    fig.update_layout(showlegend=False,\n",
    "    height=900,\n",
    "    title=stock,\n",
    "    xaxis_rangeslider_visible=True)\n",
    "    fig.show()\n",
    "    from IPython.display import display, HTML\n",
    "    fig_html = fig.to_html()\n",
    "    display(HTML(fig_html))"
   ]
  },
  {
   "cell_type": "markdown",
   "id": "931a3015-bf7e-4865-8d88-1707414f3662",
   "metadata": {},
   "source": [
    "Use the make_graph function that we’ve already defined. You’ll need to invoke it in questions 5 and 6 to display the graphs and create the dashboard. \n",
    "> **Note: You don’t need to redefine the function for plotting graphs anywhere else in this notebook; just use the existing function.**\n"
   ]
  },
  {
   "cell_type": "markdown",
   "id": "8e7f2cef-2874-4837-b8f2-e7d595b4d365",
   "metadata": {},
   "source": [
    "## Question 1: Use yfinance to Extract Stock Data\n"
   ]
  },
  {
   "cell_type": "markdown",
   "id": "30bf7045-0dc3-4391-be60-15ae8ecb5e63",
   "metadata": {},
   "source": [
    "Using the `Ticker` function enter the ticker symbol of the stock we want to extract data on to create a ticker object. The stock is Tesla and its ticker symbol is `TSLA`.\n"
   ]
  },
  {
   "cell_type": "code",
   "execution_count": 30,
   "id": "f5d8c0cc-00af-4d04-b2d1-ec37ec065e23",
   "metadata": {},
   "outputs": [],
   "source": [
    "tesla = yf.Ticker(\"TSLA\")"
   ]
  },
  {
   "cell_type": "markdown",
   "id": "5ff93c87-1abc-4748-82b4-acf32494a27b",
   "metadata": {},
   "source": [
    "Using the ticker object and the function `history` extract stock information and save it in a dataframe named `tesla_data`. Set the `period` parameter to ` \"max\" ` so we get information for the maximum amount of time.\n"
   ]
  },
  {
   "cell_type": "code",
   "execution_count": 31,
   "id": "ec0897eb-3576-4a0c-9fa1-e68c36642a19",
   "metadata": {},
   "outputs": [],
   "source": [
    "tesla_data = tesla.history(period=\"max\")"
   ]
  },
  {
   "cell_type": "code",
   "execution_count": 33,
   "metadata": {},
   "outputs": [
    {
     "data": {
      "text/html": [
       "<div>\n",
       "<style scoped>\n",
       "    .dataframe tbody tr th:only-of-type {\n",
       "        vertical-align: middle;\n",
       "    }\n",
       "\n",
       "    .dataframe tbody tr th {\n",
       "        vertical-align: top;\n",
       "    }\n",
       "\n",
       "    .dataframe thead th {\n",
       "        text-align: right;\n",
       "    }\n",
       "</style>\n",
       "<table border=\"1\" class=\"dataframe\">\n",
       "  <thead>\n",
       "    <tr style=\"text-align: right;\">\n",
       "      <th></th>\n",
       "      <th>index</th>\n",
       "      <th>Date</th>\n",
       "      <th>Open</th>\n",
       "      <th>High</th>\n",
       "      <th>Low</th>\n",
       "      <th>Close</th>\n",
       "      <th>Volume</th>\n",
       "      <th>Dividends</th>\n",
       "      <th>Stock Splits</th>\n",
       "    </tr>\n",
       "  </thead>\n",
       "  <tbody>\n",
       "    <tr>\n",
       "      <th>0</th>\n",
       "      <td>0</td>\n",
       "      <td>2010-06-29 00:00:00-04:00</td>\n",
       "      <td>1.266667</td>\n",
       "      <td>1.666667</td>\n",
       "      <td>1.169333</td>\n",
       "      <td>1.592667</td>\n",
       "      <td>281494500</td>\n",
       "      <td>0.0</td>\n",
       "      <td>0.0</td>\n",
       "    </tr>\n",
       "    <tr>\n",
       "      <th>1</th>\n",
       "      <td>1</td>\n",
       "      <td>2010-06-30 00:00:00-04:00</td>\n",
       "      <td>1.719333</td>\n",
       "      <td>2.028000</td>\n",
       "      <td>1.553333</td>\n",
       "      <td>1.588667</td>\n",
       "      <td>257806500</td>\n",
       "      <td>0.0</td>\n",
       "      <td>0.0</td>\n",
       "    </tr>\n",
       "    <tr>\n",
       "      <th>2</th>\n",
       "      <td>2</td>\n",
       "      <td>2010-07-01 00:00:00-04:00</td>\n",
       "      <td>1.666667</td>\n",
       "      <td>1.728000</td>\n",
       "      <td>1.351333</td>\n",
       "      <td>1.464000</td>\n",
       "      <td>123282000</td>\n",
       "      <td>0.0</td>\n",
       "      <td>0.0</td>\n",
       "    </tr>\n",
       "    <tr>\n",
       "      <th>3</th>\n",
       "      <td>3</td>\n",
       "      <td>2010-07-02 00:00:00-04:00</td>\n",
       "      <td>1.533333</td>\n",
       "      <td>1.540000</td>\n",
       "      <td>1.247333</td>\n",
       "      <td>1.280000</td>\n",
       "      <td>77097000</td>\n",
       "      <td>0.0</td>\n",
       "      <td>0.0</td>\n",
       "    </tr>\n",
       "    <tr>\n",
       "      <th>4</th>\n",
       "      <td>4</td>\n",
       "      <td>2010-07-06 00:00:00-04:00</td>\n",
       "      <td>1.333333</td>\n",
       "      <td>1.333333</td>\n",
       "      <td>1.055333</td>\n",
       "      <td>1.074000</td>\n",
       "      <td>103003500</td>\n",
       "      <td>0.0</td>\n",
       "      <td>0.0</td>\n",
       "    </tr>\n",
       "  </tbody>\n",
       "</table>\n",
       "</div>"
      ],
      "text/plain": [
       "   index                      Date      Open      High       Low     Close  \\\n",
       "0      0 2010-06-29 00:00:00-04:00  1.266667  1.666667  1.169333  1.592667   \n",
       "1      1 2010-06-30 00:00:00-04:00  1.719333  2.028000  1.553333  1.588667   \n",
       "2      2 2010-07-01 00:00:00-04:00  1.666667  1.728000  1.351333  1.464000   \n",
       "3      3 2010-07-02 00:00:00-04:00  1.533333  1.540000  1.247333  1.280000   \n",
       "4      4 2010-07-06 00:00:00-04:00  1.333333  1.333333  1.055333  1.074000   \n",
       "\n",
       "      Volume  Dividends  Stock Splits  \n",
       "0  281494500        0.0           0.0  \n",
       "1  257806500        0.0           0.0  \n",
       "2  123282000        0.0           0.0  \n",
       "3   77097000        0.0           0.0  \n",
       "4  103003500        0.0           0.0  "
      ]
     },
     "execution_count": 33,
     "metadata": {},
     "output_type": "execute_result"
    }
   ],
   "source": [
    "tesla_data.reset_index(inplace=True)\n",
    "tesla_data.head()"
   ]
  },
  {
   "cell_type": "markdown",
   "id": "06bc091b-e1af-47b9-aca0-885fdcd8403f",
   "metadata": {},
   "source": [
    "**Reset the index** using the `reset_index(inplace=True)` function on the tesla_data DataFrame and display the first five rows of the `tesla_data` dataframe using the `head` function. Take a screenshot of the results and code from the beginning of Question 1 to the results below.\n"
   ]
  },
  {
   "cell_type": "code",
   "execution_count": null,
   "id": "b41f0bdb-8e6a-4bba-855e-2b47b766add5",
   "metadata": {},
   "outputs": [
    {
     "data": {
      "text/html": [
       "<div>\n",
       "<style scoped>\n",
       "    .dataframe tbody tr th:only-of-type {\n",
       "        vertical-align: middle;\n",
       "    }\n",
       "\n",
       "    .dataframe tbody tr th {\n",
       "        vertical-align: top;\n",
       "    }\n",
       "\n",
       "    .dataframe thead th {\n",
       "        text-align: right;\n",
       "    }\n",
       "</style>\n",
       "<table border=\"1\" class=\"dataframe\">\n",
       "  <thead>\n",
       "    <tr style=\"text-align: right;\">\n",
       "      <th></th>\n",
       "      <th>index</th>\n",
       "      <th>Date</th>\n",
       "      <th>Open</th>\n",
       "      <th>High</th>\n",
       "      <th>Low</th>\n",
       "      <th>Close</th>\n",
       "      <th>Volume</th>\n",
       "      <th>Dividends</th>\n",
       "      <th>Stock Splits</th>\n",
       "    </tr>\n",
       "  </thead>\n",
       "  <tbody>\n",
       "    <tr>\n",
       "      <th>0</th>\n",
       "      <td>0</td>\n",
       "      <td>2010-06-29 00:00:00-04:00</td>\n",
       "      <td>1.266667</td>\n",
       "      <td>1.666667</td>\n",
       "      <td>1.169333</td>\n",
       "      <td>1.592667</td>\n",
       "      <td>281494500</td>\n",
       "      <td>0.0</td>\n",
       "      <td>0.0</td>\n",
       "    </tr>\n",
       "    <tr>\n",
       "      <th>1</th>\n",
       "      <td>1</td>\n",
       "      <td>2010-06-30 00:00:00-04:00</td>\n",
       "      <td>1.719333</td>\n",
       "      <td>2.028000</td>\n",
       "      <td>1.553333</td>\n",
       "      <td>1.588667</td>\n",
       "      <td>257806500</td>\n",
       "      <td>0.0</td>\n",
       "      <td>0.0</td>\n",
       "    </tr>\n",
       "    <tr>\n",
       "      <th>2</th>\n",
       "      <td>2</td>\n",
       "      <td>2010-07-01 00:00:00-04:00</td>\n",
       "      <td>1.666667</td>\n",
       "      <td>1.728000</td>\n",
       "      <td>1.351333</td>\n",
       "      <td>1.464000</td>\n",
       "      <td>123282000</td>\n",
       "      <td>0.0</td>\n",
       "      <td>0.0</td>\n",
       "    </tr>\n",
       "    <tr>\n",
       "      <th>3</th>\n",
       "      <td>3</td>\n",
       "      <td>2010-07-02 00:00:00-04:00</td>\n",
       "      <td>1.533333</td>\n",
       "      <td>1.540000</td>\n",
       "      <td>1.247333</td>\n",
       "      <td>1.280000</td>\n",
       "      <td>77097000</td>\n",
       "      <td>0.0</td>\n",
       "      <td>0.0</td>\n",
       "    </tr>\n",
       "    <tr>\n",
       "      <th>4</th>\n",
       "      <td>4</td>\n",
       "      <td>2010-07-06 00:00:00-04:00</td>\n",
       "      <td>1.333333</td>\n",
       "      <td>1.333333</td>\n",
       "      <td>1.055333</td>\n",
       "      <td>1.074000</td>\n",
       "      <td>103003500</td>\n",
       "      <td>0.0</td>\n",
       "      <td>0.0</td>\n",
       "    </tr>\n",
       "    <tr>\n",
       "      <th>5</th>\n",
       "      <td>5</td>\n",
       "      <td>2010-07-07 00:00:00-04:00</td>\n",
       "      <td>1.093333</td>\n",
       "      <td>1.108667</td>\n",
       "      <td>0.998667</td>\n",
       "      <td>1.053333</td>\n",
       "      <td>103825500</td>\n",
       "      <td>0.0</td>\n",
       "      <td>0.0</td>\n",
       "    </tr>\n",
       "    <tr>\n",
       "      <th>6</th>\n",
       "      <td>6</td>\n",
       "      <td>2010-07-08 00:00:00-04:00</td>\n",
       "      <td>1.076000</td>\n",
       "      <td>1.168000</td>\n",
       "      <td>1.038000</td>\n",
       "      <td>1.164000</td>\n",
       "      <td>115671000</td>\n",
       "      <td>0.0</td>\n",
       "      <td>0.0</td>\n",
       "    </tr>\n",
       "    <tr>\n",
       "      <th>7</th>\n",
       "      <td>7</td>\n",
       "      <td>2010-07-09 00:00:00-04:00</td>\n",
       "      <td>1.172000</td>\n",
       "      <td>1.193333</td>\n",
       "      <td>1.103333</td>\n",
       "      <td>1.160000</td>\n",
       "      <td>60759000</td>\n",
       "      <td>0.0</td>\n",
       "      <td>0.0</td>\n",
       "    </tr>\n",
       "    <tr>\n",
       "      <th>8</th>\n",
       "      <td>8</td>\n",
       "      <td>2010-07-12 00:00:00-04:00</td>\n",
       "      <td>1.196667</td>\n",
       "      <td>1.204667</td>\n",
       "      <td>1.133333</td>\n",
       "      <td>1.136667</td>\n",
       "      <td>33037500</td>\n",
       "      <td>0.0</td>\n",
       "      <td>0.0</td>\n",
       "    </tr>\n",
       "    <tr>\n",
       "      <th>9</th>\n",
       "      <td>9</td>\n",
       "      <td>2010-07-13 00:00:00-04:00</td>\n",
       "      <td>1.159333</td>\n",
       "      <td>1.242667</td>\n",
       "      <td>1.126667</td>\n",
       "      <td>1.209333</td>\n",
       "      <td>40201500</td>\n",
       "      <td>0.0</td>\n",
       "      <td>0.0</td>\n",
       "    </tr>\n",
       "  </tbody>\n",
       "</table>\n",
       "</div>"
      ],
      "text/plain": [
       "   index                      Date      Open      High       Low     Close  \\\n",
       "0      0 2010-06-29 00:00:00-04:00  1.266667  1.666667  1.169333  1.592667   \n",
       "1      1 2010-06-30 00:00:00-04:00  1.719333  2.028000  1.553333  1.588667   \n",
       "2      2 2010-07-01 00:00:00-04:00  1.666667  1.728000  1.351333  1.464000   \n",
       "3      3 2010-07-02 00:00:00-04:00  1.533333  1.540000  1.247333  1.280000   \n",
       "4      4 2010-07-06 00:00:00-04:00  1.333333  1.333333  1.055333  1.074000   \n",
       "5      5 2010-07-07 00:00:00-04:00  1.093333  1.108667  0.998667  1.053333   \n",
       "6      6 2010-07-08 00:00:00-04:00  1.076000  1.168000  1.038000  1.164000   \n",
       "7      7 2010-07-09 00:00:00-04:00  1.172000  1.193333  1.103333  1.160000   \n",
       "8      8 2010-07-12 00:00:00-04:00  1.196667  1.204667  1.133333  1.136667   \n",
       "9      9 2010-07-13 00:00:00-04:00  1.159333  1.242667  1.126667  1.209333   \n",
       "\n",
       "      Volume  Dividends  Stock Splits  \n",
       "0  281494500        0.0           0.0  \n",
       "1  257806500        0.0           0.0  \n",
       "2  123282000        0.0           0.0  \n",
       "3   77097000        0.0           0.0  \n",
       "4  103003500        0.0           0.0  \n",
       "5  103825500        0.0           0.0  \n",
       "6  115671000        0.0           0.0  \n",
       "7   60759000        0.0           0.0  \n",
       "8   33037500        0.0           0.0  \n",
       "9   40201500        0.0           0.0  "
      ]
     },
     "execution_count": 14,
     "metadata": {},
     "output_type": "execute_result"
    }
   ],
   "source": []
  },
  {
   "cell_type": "markdown",
   "id": "07e927e1-e3b7-4fac-8d27-ff58fa04048f",
   "metadata": {},
   "source": [
    "## Question 2: Use Webscraping to Extract Tesla Revenue Data\n"
   ]
  },
  {
   "cell_type": "markdown",
   "id": "65f72f7f-dff5-4085-a4e9-7b45e62e7de0",
   "metadata": {},
   "source": [
    "Use the `requests` library to download the webpage https://cf-courses-data.s3.us.cloud-object-storage.appdomain.cloud/IBMDeveloperSkillsNetwork-PY0220EN-SkillsNetwork/labs/project/revenue.htm Save the text of the response as a variable named `html_data`.\n"
   ]
  },
  {
   "cell_type": "code",
   "execution_count": 18,
   "id": "638a6235-eb30-4c2f-a45d-bc9811f8f53a",
   "metadata": {},
   "outputs": [],
   "source": [
    "url=\"https://cf-courses-data.s3.us.cloud-object-storage.appdomain.cloud/IBMDeveloperSkillsNetwork-PY0220EN-SkillsNetwork/labs/project/revenue.htm\"\n",
    "data_set1=requests.get(url)"
   ]
  },
  {
   "cell_type": "markdown",
   "id": "99e71999-0dca-4da5-9e39-42ade170abab",
   "metadata": {},
   "source": [
    "Parse the html data using `beautiful_soup` using parser i.e `html5lib` or `html.parser`.\n"
   ]
  },
  {
   "cell_type": "code",
   "execution_count": 22,
   "id": "60ebd9df-ec15-406e-87b1-c090e4a482b4",
   "metadata": {},
   "outputs": [],
   "source": [
    "import requests\n",
    "from bs4 import BeautifulSoup\n",
    "url = \"https://cf-courses-data.s3.us.cloud-object-storage.appdomain.cloud/IBMDeveloperSkillsNetwork-PY0220EN-SkillsNetwork/labs/project/amazon_data_webpage.html\"\n",
    "data_set1 = requests.get(url)\n",
    "\n"
   ]
  },
  {
   "cell_type": "code",
   "execution_count": 34,
   "metadata": {},
   "outputs": [],
   "source": [
    "soups = BeautifulSoup(data_set1.text, 'html.parser')\n"
   ]
  },
  {
   "cell_type": "markdown",
   "id": "c1a20b68-785b-4976-97f8-2a8da5869015",
   "metadata": {},
   "source": [
    "Using `BeautifulSoup` or the `read_html` function extract the table with `Tesla Quarterly Revenue` and store it into a dataframe named `tesla_revenue`. The dataframe should have columns `Date` and `Revenue`.\n"
   ]
  },
  {
   "cell_type": "markdown",
   "id": "5149b03d-ad6f-4928-95f3-d0746948cbe0",
   "metadata": {},
   "source": [
    "<details><summary>Step-by-step instructions</summary>\n",
    "\n",
    "```\n",
    "\n",
    "Here are the step-by-step instructions:\n",
    "\n",
    "1. Create an Empty DataFrame\n",
    "2. Find the Relevant Table\n",
    "3. Check for the Tesla Quarterly Revenue Table\n",
    "4. Iterate Through Rows in the Table Body\n",
    "5. Extract Data from Columns\n",
    "6. Append Data to the DataFrame\n",
    "\n",
    "```\n",
    "</details>\n"
   ]
  },
  {
   "cell_type": "markdown",
   "id": "a3554122-61bc-437c-a304-f23f3f687d30",
   "metadata": {},
   "source": [
    "<details><summary>Click here if you need help locating the table</summary>\n",
    "\n",
    "```\n",
    "    \n",
    "Below is the code to isolate the table, you will now need to loop through the rows and columns like in the previous lab\n",
    "    \n",
    "soup.find_all(\"tbody\")[1]\n",
    "    \n",
    "If you want to use the read_html function the table is located at index 1\n",
    "\n",
    "We are focusing on quarterly revenue in the lab.\n",
    "```\n",
    "\n",
    "</details>\n"
   ]
  },
  {
   "cell_type": "code",
   "execution_count": null,
   "id": "91bd0633-df45-435e-aa09-d524412d49da",
   "metadata": {},
   "outputs": [
    {
     "data": {
      "text/plain": [
       "[<tbody data-reactid=\"50\"><tr class=\"BdT Bdc($seperatorColor) Ta(end) Fz(s) Whs(nw)\" data-reactid=\"51\"><td class=\"Py(10px) Ta(start) Pend(10px)\" data-reactid=\"52\"><span data-reactid=\"53\">Jan 01, 2021</span></td><td class=\"Py(10px) Pstart(10px)\" data-reactid=\"54\"><span data-reactid=\"55\">3,270.00</span></td><td class=\"Py(10px) Pstart(10px)\" data-reactid=\"56\"><span data-reactid=\"57\">3,363.89</span></td><td class=\"Py(10px) Pstart(10px)\" data-reactid=\"58\"><span data-reactid=\"59\">3,086.00</span></td><td class=\"Py(10px) Pstart(10px)\" data-reactid=\"60\"><span data-reactid=\"61\">3,206.20</span></td><td class=\"Py(10px) Pstart(10px)\" data-reactid=\"62\"><span data-reactid=\"63\">3,206.20</span></td><td class=\"Py(10px) Pstart(10px)\" data-reactid=\"64\"><span data-reactid=\"65\">71,528,900</span></td></tr><tr class=\"BdT Bdc($seperatorColor) Ta(end) Fz(s) Whs(nw)\" data-reactid=\"66\"><td class=\"Py(10px) Ta(start) Pend(10px)\" data-reactid=\"67\"><span data-reactid=\"68\">Dec 01, 2020</span></td><td class=\"Py(10px) Pstart(10px)\" data-reactid=\"69\"><span data-reactid=\"70\">3,188.50</span></td><td class=\"Py(10px) Pstart(10px)\" data-reactid=\"71\"><span data-reactid=\"72\">3,350.65</span></td><td class=\"Py(10px) Pstart(10px)\" data-reactid=\"73\"><span data-reactid=\"74\">3,072.82</span></td><td class=\"Py(10px) Pstart(10px)\" data-reactid=\"75\"><span data-reactid=\"76\">3,256.93</span></td><td class=\"Py(10px) Pstart(10px)\" data-reactid=\"77\"><span data-reactid=\"78\">3,256.93</span></td><td class=\"Py(10px) Pstart(10px)\" data-reactid=\"79\"><span data-reactid=\"80\">77,556,200</span></td></tr><tr class=\"BdT Bdc($seperatorColor) Ta(end) Fz(s) Whs(nw)\" data-reactid=\"81\"><td class=\"Py(10px) Ta(start) Pend(10px)\" data-reactid=\"82\"><span data-reactid=\"83\">Nov 01, 2020</span></td><td class=\"Py(10px) Pstart(10px)\" data-reactid=\"84\"><span data-reactid=\"85\">3,061.74</span></td><td class=\"Py(10px) Pstart(10px)\" data-reactid=\"86\"><span data-reactid=\"87\">3,366.80</span></td><td class=\"Py(10px) Pstart(10px)\" data-reactid=\"88\"><span data-reactid=\"89\">2,950.12</span></td><td class=\"Py(10px) Pstart(10px)\" data-reactid=\"90\"><span data-reactid=\"91\">3,168.04</span></td><td class=\"Py(10px) Pstart(10px)\" data-reactid=\"92\"><span data-reactid=\"93\">3,168.04</span></td><td class=\"Py(10px) Pstart(10px)\" data-reactid=\"94\"><span data-reactid=\"95\">90,810,500</span></td></tr><tr class=\"BdT Bdc($seperatorColor) Ta(end) Fz(s) Whs(nw)\" data-reactid=\"96\"><td class=\"Py(10px) Ta(start) Pend(10px)\" data-reactid=\"97\"><span data-reactid=\"98\">Oct 01, 2020</span></td><td class=\"Py(10px) Pstart(10px)\" data-reactid=\"99\"><span data-reactid=\"100\">3,208.00</span></td><td class=\"Py(10px) Pstart(10px)\" data-reactid=\"101\"><span data-reactid=\"102\">3,496.24</span></td><td class=\"Py(10px) Pstart(10px)\" data-reactid=\"103\"><span data-reactid=\"104\">3,019.00</span></td><td class=\"Py(10px) Pstart(10px)\" data-reactid=\"105\"><span data-reactid=\"106\">3,036.15</span></td><td class=\"Py(10px) Pstart(10px)\" data-reactid=\"107\"><span data-reactid=\"108\">3,036.15</span></td><td class=\"Py(10px) Pstart(10px)\" data-reactid=\"109\"><span data-reactid=\"110\">116,226,100</span></td></tr><tr class=\"BdT Bdc($seperatorColor) Ta(end) Fz(s) Whs(nw)\" data-reactid=\"111\"><td class=\"Py(10px) Ta(start) Pend(10px)\" data-reactid=\"112\"><span data-reactid=\"113\">Sep 01, 2020</span></td><td class=\"Py(10px) Pstart(10px)\" data-reactid=\"114\"><span data-reactid=\"115\">3,489.58</span></td><td class=\"Py(10px) Pstart(10px)\" data-reactid=\"116\"><span data-reactid=\"117\">3,552.25</span></td><td class=\"Py(10px) Pstart(10px)\" data-reactid=\"118\"><span data-reactid=\"119\">2,871.00</span></td><td class=\"Py(10px) Pstart(10px)\" data-reactid=\"120\"><span data-reactid=\"121\">3,148.73</span></td><td class=\"Py(10px) Pstart(10px)\" data-reactid=\"122\"><span data-reactid=\"123\">3,148.73</span></td><td class=\"Py(10px) Pstart(10px)\" data-reactid=\"124\"><span data-reactid=\"125\">115,899,300</span></td></tr><tr class=\"BdT Bdc($seperatorColor) Ta(end) Fz(s) Whs(nw)\" data-reactid=\"126\"><td class=\"Py(10px) Ta(start) Pend(10px)\" data-reactid=\"127\"><span data-reactid=\"128\">Aug 01, 2020</span></td><td class=\"Py(10px) Pstart(10px)\" data-reactid=\"129\"><span data-reactid=\"130\">3,180.51</span></td><td class=\"Py(10px) Pstart(10px)\" data-reactid=\"131\"><span data-reactid=\"132\">3,495.00</span></td><td class=\"Py(10px) Pstart(10px)\" data-reactid=\"133\"><span data-reactid=\"134\">3,073.00</span></td><td class=\"Py(10px) Pstart(10px)\" data-reactid=\"135\"><span data-reactid=\"136\">3,450.96</span></td><td class=\"Py(10px) Pstart(10px)\" data-reactid=\"137\"><span data-reactid=\"138\">3,450.96</span></td><td class=\"Py(10px) Pstart(10px)\" data-reactid=\"139\"><span data-reactid=\"140\">83,516,600</span></td></tr><tr class=\"BdT Bdc($seperatorColor) Ta(end) Fz(s) Whs(nw)\" data-reactid=\"141\"><td class=\"Py(10px) Ta(start) Pend(10px)\" data-reactid=\"142\"><span data-reactid=\"143\">Jul 01, 2020</span></td><td class=\"Py(10px) Pstart(10px)\" data-reactid=\"144\"><span data-reactid=\"145\">2,757.99</span></td><td class=\"Py(10px) Pstart(10px)\" data-reactid=\"146\"><span data-reactid=\"147\">3,344.29</span></td><td class=\"Py(10px) Pstart(10px)\" data-reactid=\"148\"><span data-reactid=\"149\">2,754.00</span></td><td class=\"Py(10px) Pstart(10px)\" data-reactid=\"150\"><span data-reactid=\"151\">3,164.68</span></td><td class=\"Py(10px) Pstart(10px)\" data-reactid=\"152\"><span data-reactid=\"153\">3,164.68</span></td><td class=\"Py(10px) Pstart(10px)\" data-reactid=\"154\"><span data-reactid=\"155\">127,502,000</span></td></tr><tr class=\"BdT Bdc($seperatorColor) Ta(end) Fz(s) Whs(nw)\" data-reactid=\"156\"><td class=\"Py(10px) Ta(start) Pend(10px)\" data-reactid=\"157\"><span data-reactid=\"158\">Jun 01, 2020</span></td><td class=\"Py(10px) Pstart(10px)\" data-reactid=\"159\"><span data-reactid=\"160\">2,448.00</span></td><td class=\"Py(10px) Pstart(10px)\" data-reactid=\"161\"><span data-reactid=\"162\">2,796.00</span></td><td class=\"Py(10px) Pstart(10px)\" data-reactid=\"163\"><span data-reactid=\"164\">2,437.13</span></td><td class=\"Py(10px) Pstart(10px)\" data-reactid=\"165\"><span data-reactid=\"166\">2,758.82</span></td><td class=\"Py(10px) Pstart(10px)\" data-reactid=\"167\"><span data-reactid=\"168\">2,758.82</span></td><td class=\"Py(10px) Pstart(10px)\" data-reactid=\"169\"><span data-reactid=\"170\">87,818,300</span></td></tr><tr class=\"BdT Bdc($seperatorColor) Ta(end) Fz(s) Whs(nw)\" data-reactid=\"171\"><td class=\"Py(10px) Ta(start) Pend(10px)\" data-reactid=\"172\"><span data-reactid=\"173\">May 01, 2020</span></td><td class=\"Py(10px) Pstart(10px)\" data-reactid=\"174\"><span data-reactid=\"175\">2,336.80</span></td><td class=\"Py(10px) Pstart(10px)\" data-reactid=\"176\"><span data-reactid=\"177\">2,525.45</span></td><td class=\"Py(10px) Pstart(10px)\" data-reactid=\"178\"><span data-reactid=\"179\">2,256.38</span></td><td class=\"Py(10px) Pstart(10px)\" data-reactid=\"180\"><span data-reactid=\"181\">2,442.37</span></td><td class=\"Py(10px) Pstart(10px)\" data-reactid=\"182\"><span data-reactid=\"183\">2,442.37</span></td><td class=\"Py(10px) Pstart(10px)\" data-reactid=\"184\"><span data-reactid=\"185\">82,584,400</span></td></tr><tr class=\"BdT Bdc($seperatorColor) Ta(end) Fz(s) Whs(nw)\" data-reactid=\"186\"><td class=\"Py(10px) Ta(start) Pend(10px)\" data-reactid=\"187\"><span data-reactid=\"188\">Apr 01, 2020</span></td><td class=\"Py(10px) Pstart(10px)\" data-reactid=\"189\"><span data-reactid=\"190\">1,932.97</span></td><td class=\"Py(10px) Pstart(10px)\" data-reactid=\"191\"><span data-reactid=\"192\">2,475.00</span></td><td class=\"Py(10px) Pstart(10px)\" data-reactid=\"193\"><span data-reactid=\"194\">1,889.15</span></td><td class=\"Py(10px) Pstart(10px)\" data-reactid=\"195\"><span data-reactid=\"196\">2,474.00</span></td><td class=\"Py(10px) Pstart(10px)\" data-reactid=\"197\"><span data-reactid=\"198\">2,474.00</span></td><td class=\"Py(10px) Pstart(10px)\" data-reactid=\"199\"><span data-reactid=\"200\">124,609,800</span></td></tr><tr class=\"BdT Bdc($seperatorColor) Ta(end) Fz(s) Whs(nw)\" data-reactid=\"201\"><td class=\"Py(10px) Ta(start) Pend(10px)\" data-reactid=\"202\"><span data-reactid=\"203\">Mar 01, 2020</span></td><td class=\"Py(10px) Pstart(10px)\" data-reactid=\"204\"><span data-reactid=\"205\">1,906.49</span></td><td class=\"Py(10px) Pstart(10px)\" data-reactid=\"206\"><span data-reactid=\"207\">1,996.33</span></td><td class=\"Py(10px) Pstart(10px)\" data-reactid=\"208\"><span data-reactid=\"209\">1,626.03</span></td><td class=\"Py(10px) Pstart(10px)\" data-reactid=\"210\"><span data-reactid=\"211\">1,949.72</span></td><td class=\"Py(10px) Pstart(10px)\" data-reactid=\"212\"><span data-reactid=\"213\">1,949.72</span></td><td class=\"Py(10px) Pstart(10px)\" data-reactid=\"214\"><span data-reactid=\"215\">163,809,100</span></td></tr><tr class=\"BdT Bdc($seperatorColor) Ta(end) Fz(s) Whs(nw)\" data-reactid=\"216\"><td class=\"Py(10px) Ta(start) Pend(10px)\" data-reactid=\"217\"><span data-reactid=\"218\">Feb 01, 2020</span></td><td class=\"Py(10px) Pstart(10px)\" data-reactid=\"219\"><span data-reactid=\"220\">2,010.60</span></td><td class=\"Py(10px) Pstart(10px)\" data-reactid=\"221\"><span data-reactid=\"222\">2,185.95</span></td><td class=\"Py(10px) Pstart(10px)\" data-reactid=\"223\"><span data-reactid=\"224\">1,811.13</span></td><td class=\"Py(10px) Pstart(10px)\" data-reactid=\"225\"><span data-reactid=\"226\">1,883.75</span></td><td class=\"Py(10px) Pstart(10px)\" data-reactid=\"227\"><span data-reactid=\"228\">1,883.75</span></td><td class=\"Py(10px) Pstart(10px)\" data-reactid=\"229\"><span data-reactid=\"230\">92,510,100</span></td></tr><tr class=\"BdT Bdc($seperatorColor) Ta(end) Fz(s) Whs(nw)\" data-reactid=\"231\"><td class=\"Py(10px) Ta(start) Pend(10px)\" data-reactid=\"232\"><span data-reactid=\"233\">Jan 01, 2020</span></td><td class=\"Py(10px) Pstart(10px)\" data-reactid=\"234\"><span data-reactid=\"235\">1,875.00</span></td><td class=\"Py(10px) Pstart(10px)\" data-reactid=\"236\"><span data-reactid=\"237\">2,055.72</span></td><td class=\"Py(10px) Pstart(10px)\" data-reactid=\"238\"><span data-reactid=\"239\">1,815.34</span></td><td class=\"Py(10px) Pstart(10px)\" data-reactid=\"240\"><span data-reactid=\"241\">2,008.72</span></td><td class=\"Py(10px) Pstart(10px)\" data-reactid=\"242\"><span data-reactid=\"243\">2,008.72</span></td><td class=\"Py(10px) Pstart(10px)\" data-reactid=\"244\"><span data-reactid=\"245\">84,698,300</span></td></tr><tr class=\"BdT Bdc($seperatorColor) Ta(end) Fz(s) Whs(nw)\" data-reactid=\"246\"><td class=\"Py(10px) Ta(start) Pend(10px)\" data-reactid=\"247\"><span data-reactid=\"248\">Dec 01, 2019</span></td><td class=\"Py(10px) Pstart(10px)\" data-reactid=\"249\"><span data-reactid=\"250\">1,804.40</span></td><td class=\"Py(10px) Pstart(10px)\" data-reactid=\"251\"><span data-reactid=\"252\">1,901.40</span></td><td class=\"Py(10px) Pstart(10px)\" data-reactid=\"253\"><span data-reactid=\"254\">1,735.00</span></td><td class=\"Py(10px) Pstart(10px)\" data-reactid=\"255\"><span data-reactid=\"256\">1,847.84</span></td><td class=\"Py(10px) Pstart(10px)\" data-reactid=\"257\"><span data-reactid=\"258\">1,847.84</span></td><td class=\"Py(10px) Pstart(10px)\" data-reactid=\"259\"><span data-reactid=\"260\">68,149,600</span></td></tr><tr class=\"BdT Bdc($seperatorColor) Ta(end) Fz(s) Whs(nw)\" data-reactid=\"261\"><td class=\"Py(10px) Ta(start) Pend(10px)\" data-reactid=\"262\"><span data-reactid=\"263\">Nov 01, 2019</span></td><td class=\"Py(10px) Pstart(10px)\" data-reactid=\"264\"><span data-reactid=\"265\">1,788.01</span></td><td class=\"Py(10px) Pstart(10px)\" data-reactid=\"266\"><span data-reactid=\"267\">1,824.69</span></td><td class=\"Py(10px) Pstart(10px)\" data-reactid=\"268\"><span data-reactid=\"269\">1,722.71</span></td><td class=\"Py(10px) Pstart(10px)\" data-reactid=\"270\"><span data-reactid=\"271\">1,800.80</span></td><td class=\"Py(10px) Pstart(10px)\" data-reactid=\"272\"><span data-reactid=\"273\">1,800.80</span></td><td class=\"Py(10px) Pstart(10px)\" data-reactid=\"274\"><span data-reactid=\"275\">52,076,200</span></td></tr><tr class=\"BdT Bdc($seperatorColor) Ta(end) Fz(s) Whs(nw)\" data-reactid=\"276\"><td class=\"Py(10px) Ta(start) Pend(10px)\" data-reactid=\"277\"><span data-reactid=\"278\">Oct 01, 2019</span></td><td class=\"Py(10px) Pstart(10px)\" data-reactid=\"279\"><span data-reactid=\"280\">1,746.00</span></td><td class=\"Py(10px) Pstart(10px)\" data-reactid=\"281\"><span data-reactid=\"282\">1,798.85</span></td><td class=\"Py(10px) Pstart(10px)\" data-reactid=\"283\"><span data-reactid=\"284\">1,685.06</span></td><td class=\"Py(10px) Pstart(10px)\" data-reactid=\"285\"><span data-reactid=\"286\">1,776.66</span></td><td class=\"Py(10px) Pstart(10px)\" data-reactid=\"287\"><span data-reactid=\"288\">1,776.66</span></td><td class=\"Py(10px) Pstart(10px)\" data-reactid=\"289\"><span data-reactid=\"290\">70,360,500</span></td></tr><tr class=\"BdT Bdc($seperatorColor) Ta(end) Fz(s) Whs(nw)\" data-reactid=\"291\"><td class=\"Py(10px) Ta(start) Pend(10px)\" data-reactid=\"292\"><span data-reactid=\"293\">Sep 01, 2019</span></td><td class=\"Py(10px) Pstart(10px)\" data-reactid=\"294\"><span data-reactid=\"295\">1,770.00</span></td><td class=\"Py(10px) Pstart(10px)\" data-reactid=\"296\"><span data-reactid=\"297\">1,853.66</span></td><td class=\"Py(10px) Pstart(10px)\" data-reactid=\"298\"><span data-reactid=\"299\">1,709.22</span></td><td class=\"Py(10px) Pstart(10px)\" data-reactid=\"300\"><span data-reactid=\"301\">1,735.91</span></td><td class=\"Py(10px) Pstart(10px)\" data-reactid=\"302\"><span data-reactid=\"303\">1,735.91</span></td><td class=\"Py(10px) Pstart(10px)\" data-reactid=\"304\"><span data-reactid=\"305\">61,172,900</span></td></tr><tr class=\"BdT Bdc($seperatorColor) Ta(end) Fz(s) Whs(nw)\" data-reactid=\"306\"><td class=\"Py(10px) Ta(start) Pend(10px)\" data-reactid=\"307\"><span data-reactid=\"308\">Aug 01, 2019</span></td><td class=\"Py(10px) Pstart(10px)\" data-reactid=\"309\"><span data-reactid=\"310\">1,871.72</span></td><td class=\"Py(10px) Pstart(10px)\" data-reactid=\"311\"><span data-reactid=\"312\">1,897.92</span></td><td class=\"Py(10px) Pstart(10px)\" data-reactid=\"313\"><span data-reactid=\"314\">1,743.51</span></td><td class=\"Py(10px) Pstart(10px)\" data-reactid=\"315\"><span data-reactid=\"316\">1,776.29</span></td><td class=\"Py(10px) Pstart(10px)\" data-reactid=\"317\"><span data-reactid=\"318\">1,776.29</span></td><td class=\"Py(10px) Pstart(10px)\" data-reactid=\"319\"><span data-reactid=\"320\">79,771,200</span></td></tr><tr class=\"BdT Bdc($seperatorColor) Ta(end) Fz(s) Whs(nw)\" data-reactid=\"321\"><td class=\"Py(10px) Ta(start) Pend(10px)\" data-reactid=\"322\"><span data-reactid=\"323\">Jul 01, 2019</span></td><td class=\"Py(10px) Pstart(10px)\" data-reactid=\"324\"><span data-reactid=\"325\">1,922.98</span></td><td class=\"Py(10px) Pstart(10px)\" data-reactid=\"326\"><span data-reactid=\"327\">2,035.80</span></td><td class=\"Py(10px) Pstart(10px)\" data-reactid=\"328\"><span data-reactid=\"329\">1,849.44</span></td><td class=\"Py(10px) Pstart(10px)\" data-reactid=\"330\"><span data-reactid=\"331\">1,866.78</span></td><td class=\"Py(10px) Pstart(10px)\" data-reactid=\"332\"><span data-reactid=\"333\">1,866.78</span></td><td class=\"Py(10px) Pstart(10px)\" data-reactid=\"334\"><span data-reactid=\"335\">73,148,800</span></td></tr><tr class=\"BdT Bdc($seperatorColor) Ta(end) Fz(s) Whs(nw)\" data-reactid=\"336\"><td class=\"Py(10px) Ta(start) Pend(10px)\" data-reactid=\"337\"><span data-reactid=\"338\">Jun 01, 2019</span></td><td class=\"Py(10px) Pstart(10px)\" data-reactid=\"339\"><span data-reactid=\"340\">1,760.01</span></td><td class=\"Py(10px) Pstart(10px)\" data-reactid=\"341\"><span data-reactid=\"342\">1,935.20</span></td><td class=\"Py(10px) Pstart(10px)\" data-reactid=\"343\"><span data-reactid=\"344\">1,672.00</span></td><td class=\"Py(10px) Pstart(10px)\" data-reactid=\"345\"><span data-reactid=\"346\">1,893.63</span></td><td class=\"Py(10px) Pstart(10px)\" data-reactid=\"347\"><span data-reactid=\"348\">1,893.63</span></td><td class=\"Py(10px) Pstart(10px)\" data-reactid=\"349\"><span data-reactid=\"350\">74,746,500</span></td></tr><tr class=\"BdT Bdc($seperatorColor) Ta(end) Fz(s) Whs(nw)\" data-reactid=\"351\"><td class=\"Py(10px) Ta(start) Pend(10px)\" data-reactid=\"352\"><span data-reactid=\"353\">May 01, 2019</span></td><td class=\"Py(10px) Pstart(10px)\" data-reactid=\"354\"><span data-reactid=\"355\">1,933.09</span></td><td class=\"Py(10px) Pstart(10px)\" data-reactid=\"356\"><span data-reactid=\"357\">1,964.40</span></td><td class=\"Py(10px) Pstart(10px)\" data-reactid=\"358\"><span data-reactid=\"359\">1,772.70</span></td><td class=\"Py(10px) Pstart(10px)\" data-reactid=\"360\"><span data-reactid=\"361\">1,775.07</span></td><td class=\"Py(10px) Pstart(10px)\" data-reactid=\"362\"><span data-reactid=\"363\">1,775.07</span></td><td class=\"Py(10px) Pstart(10px)\" data-reactid=\"364\"><span data-reactid=\"365\">98,214,400</span></td></tr><tr class=\"BdT Bdc($seperatorColor) Ta(end) Fz(s) Whs(nw)\" data-reactid=\"366\"><td class=\"Py(10px) Ta(start) Pend(10px)\" data-reactid=\"367\"><span data-reactid=\"368\">Apr 01, 2019</span></td><td class=\"Py(10px) Pstart(10px)\" data-reactid=\"369\"><span data-reactid=\"370\">1,800.11</span></td><td class=\"Py(10px) Pstart(10px)\" data-reactid=\"371\"><span data-reactid=\"372\">1,956.34</span></td><td class=\"Py(10px) Pstart(10px)\" data-reactid=\"373\"><span data-reactid=\"374\">1,798.73</span></td><td class=\"Py(10px) Pstart(10px)\" data-reactid=\"375\"><span data-reactid=\"376\">1,926.52</span></td><td class=\"Py(10px) Pstart(10px)\" data-reactid=\"377\"><span data-reactid=\"378\">1,926.52</span></td><td class=\"Py(10px) Pstart(10px)\" data-reactid=\"379\"><span data-reactid=\"380\">81,239,200</span></td></tr><tr class=\"BdT Bdc($seperatorColor) Ta(end) Fz(s) Whs(nw)\" data-reactid=\"381\"><td class=\"Py(10px) Ta(start) Pend(10px)\" data-reactid=\"382\"><span data-reactid=\"383\">Mar 01, 2019</span></td><td class=\"Py(10px) Pstart(10px)\" data-reactid=\"384\"><span data-reactid=\"385\">1,655.13</span></td><td class=\"Py(10px) Pstart(10px)\" data-reactid=\"386\"><span data-reactid=\"387\">1,823.75</span></td><td class=\"Py(10px) Pstart(10px)\" data-reactid=\"388\"><span data-reactid=\"389\">1,586.57</span></td><td class=\"Py(10px) Pstart(10px)\" data-reactid=\"390\"><span data-reactid=\"391\">1,780.75</span></td><td class=\"Py(10px) Pstart(10px)\" data-reactid=\"392\"><span data-reactid=\"393\">1,780.75</span></td><td class=\"Py(10px) Pstart(10px)\" data-reactid=\"394\"><span data-reactid=\"395\">100,832,200</span></td></tr><tr class=\"BdT Bdc($seperatorColor) Ta(end) Fz(s) Whs(nw)\" data-reactid=\"396\"><td class=\"Py(10px) Ta(start) Pend(10px)\" data-reactid=\"397\"><span data-reactid=\"398\">Feb 01, 2019</span></td><td class=\"Py(10px) Pstart(10px)\" data-reactid=\"399\"><span data-reactid=\"400\">1,638.88</span></td><td class=\"Py(10px) Pstart(10px)\" data-reactid=\"401\"><span data-reactid=\"402\">1,673.06</span></td><td class=\"Py(10px) Pstart(10px)\" data-reactid=\"403\"><span data-reactid=\"404\">1,566.76</span></td><td class=\"Py(10px) Pstart(10px)\" data-reactid=\"405\"><span data-reactid=\"406\">1,639.83</span></td><td class=\"Py(10px) Pstart(10px)\" data-reactid=\"407\"><span data-reactid=\"408\">1,639.83</span></td><td class=\"Py(10px) Pstart(10px)\" data-reactid=\"409\"><span data-reactid=\"410\">80,936,900</span></td></tr><tr class=\"BdT Bdc($seperatorColor) Ta(end) Fz(s) Whs(nw)\" data-reactid=\"411\"><td class=\"Py(10px) Ta(start) Pend(10px)\" data-reactid=\"412\"><span data-reactid=\"413\">Jan 01, 2019</span></td><td class=\"Py(10px) Pstart(10px)\" data-reactid=\"414\"><span data-reactid=\"415\">1,465.20</span></td><td class=\"Py(10px) Pstart(10px)\" data-reactid=\"416\"><span data-reactid=\"417\">1,736.41</span></td><td class=\"Py(10px) Pstart(10px)\" data-reactid=\"418\"><span data-reactid=\"419\">1,460.93</span></td><td class=\"Py(10px) Pstart(10px)\" data-reactid=\"420\"><span data-reactid=\"421\">1,718.73</span></td><td class=\"Py(10px) Pstart(10px)\" data-reactid=\"422\"><span data-reactid=\"423\">1,718.73</span></td><td class=\"Py(10px) Pstart(10px)\" data-reactid=\"424\"><span data-reactid=\"425\">134,001,700</span></td></tr><tr class=\"BdT Bdc($seperatorColor) Ta(end) Fz(s) Whs(nw)\" data-reactid=\"426\"><td class=\"Py(10px) Ta(start) Pend(10px)\" data-reactid=\"427\"><span data-reactid=\"428\">Dec 01, 2018</span></td><td class=\"Py(10px) Pstart(10px)\" data-reactid=\"429\"><span data-reactid=\"430\">1,769.46</span></td><td class=\"Py(10px) Pstart(10px)\" data-reactid=\"431\"><span data-reactid=\"432\">1,778.34</span></td><td class=\"Py(10px) Pstart(10px)\" data-reactid=\"433\"><span data-reactid=\"434\">1,307.00</span></td><td class=\"Py(10px) Pstart(10px)\" data-reactid=\"435\"><span data-reactid=\"436\">1,501.97</span></td><td class=\"Py(10px) Pstart(10px)\" data-reactid=\"437\"><span data-reactid=\"438\">1,501.97</span></td><td class=\"Py(10px) Pstart(10px)\" data-reactid=\"439\"><span data-reactid=\"440\">154,812,700</span></td></tr><tr class=\"BdT Bdc($seperatorColor) Ta(end) Fz(s) Whs(nw)\" data-reactid=\"441\"><td class=\"Py(10px) Ta(start) Pend(10px)\" data-reactid=\"442\"><span data-reactid=\"443\">Nov 01, 2018</span></td><td class=\"Py(10px) Pstart(10px)\" data-reactid=\"444\"><span data-reactid=\"445\">1,623.53</span></td><td class=\"Py(10px) Pstart(10px)\" data-reactid=\"446\"><span data-reactid=\"447\">1,784.00</span></td><td class=\"Py(10px) Pstart(10px)\" data-reactid=\"448\"><span data-reactid=\"449\">1,420.00</span></td><td class=\"Py(10px) Pstart(10px)\" data-reactid=\"450\"><span data-reactid=\"451\">1,690.17</span></td><td class=\"Py(10px) Pstart(10px)\" data-reactid=\"452\"><span data-reactid=\"453\">1,690.17</span></td><td class=\"Py(10px) Pstart(10px)\" data-reactid=\"454\"><span data-reactid=\"455\">139,290,000</span></td></tr><tr class=\"BdT Bdc($seperatorColor) Ta(end) Fz(s) Whs(nw)\" data-reactid=\"456\"><td class=\"Py(10px) Ta(start) Pend(10px)\" data-reactid=\"457\"><span data-reactid=\"458\">Oct 01, 2018</span></td><td class=\"Py(10px) Pstart(10px)\" data-reactid=\"459\"><span data-reactid=\"460\">2,021.99</span></td><td class=\"Py(10px) Pstart(10px)\" data-reactid=\"461\"><span data-reactid=\"462\">2,033.19</span></td><td class=\"Py(10px) Pstart(10px)\" data-reactid=\"463\"><span data-reactid=\"464\">1,476.36</span></td><td class=\"Py(10px) Pstart(10px)\" data-reactid=\"465\"><span data-reactid=\"466\">1,598.01</span></td><td class=\"Py(10px) Pstart(10px)\" data-reactid=\"467\"><span data-reactid=\"468\">1,598.01</span></td><td class=\"Py(10px) Pstart(10px)\" data-reactid=\"469\"><span data-reactid=\"470\">183,220,800</span></td></tr><tr class=\"BdT Bdc($seperatorColor) Ta(end) Fz(s) Whs(nw)\" data-reactid=\"471\"><td class=\"Py(10px) Ta(start) Pend(10px)\" data-reactid=\"472\"><span data-reactid=\"473\">Sep 01, 2018</span></td><td class=\"Py(10px) Pstart(10px)\" data-reactid=\"474\"><span data-reactid=\"475\">2,026.50</span></td><td class=\"Py(10px) Pstart(10px)\" data-reactid=\"476\"><span data-reactid=\"477\">2,050.50</span></td><td class=\"Py(10px) Pstart(10px)\" data-reactid=\"478\"><span data-reactid=\"479\">1,865.00</span></td><td class=\"Py(10px) Pstart(10px)\" data-reactid=\"480\"><span data-reactid=\"481\">2,003.00</span></td><td class=\"Py(10px) Pstart(10px)\" data-reactid=\"482\"><span data-reactid=\"483\">2,003.00</span></td><td class=\"Py(10px) Pstart(10px)\" data-reactid=\"484\"><span data-reactid=\"485\">94,445,500</span></td></tr><tr class=\"BdT Bdc($seperatorColor) Ta(end) Fz(s) Whs(nw)\" data-reactid=\"486\"><td class=\"Py(10px) Ta(start) Pend(10px)\" data-reactid=\"487\"><span data-reactid=\"488\">Aug 01, 2018</span></td><td class=\"Py(10px) Pstart(10px)\" data-reactid=\"489\"><span data-reactid=\"490\">1,784.00</span></td><td class=\"Py(10px) Pstart(10px)\" data-reactid=\"491\"><span data-reactid=\"492\">2,025.57</span></td><td class=\"Py(10px) Pstart(10px)\" data-reactid=\"493\"><span data-reactid=\"494\">1,776.02</span></td><td class=\"Py(10px) Pstart(10px)\" data-reactid=\"495\"><span data-reactid=\"496\">2,012.71</span></td><td class=\"Py(10px) Pstart(10px)\" data-reactid=\"497\"><span data-reactid=\"498\">2,012.71</span></td><td class=\"Py(10px) Pstart(10px)\" data-reactid=\"499\"><span data-reactid=\"500\">96,575,800</span></td></tr><tr class=\"BdT Bdc($seperatorColor) Ta(end) Fz(s) Whs(nw)\" data-reactid=\"501\"><td class=\"Py(10px) Ta(start) Pend(10px)\" data-reactid=\"502\"><span data-reactid=\"503\">Jul 01, 2018</span></td><td class=\"Py(10px) Pstart(10px)\" data-reactid=\"504\"><span data-reactid=\"505\">1,682.70</span></td><td class=\"Py(10px) Pstart(10px)\" data-reactid=\"506\"><span data-reactid=\"507\">1,880.05</span></td><td class=\"Py(10px) Pstart(10px)\" data-reactid=\"508\"><span data-reactid=\"509\">1,678.06</span></td><td class=\"Py(10px) Pstart(10px)\" data-reactid=\"510\"><span data-reactid=\"511\">1,777.44</span></td><td class=\"Py(10px) Pstart(10px)\" data-reactid=\"512\"><span data-reactid=\"513\">1,777.44</span></td><td class=\"Py(10px) Pstart(10px)\" data-reactid=\"514\"><span data-reactid=\"515\">97,521,100</span></td></tr><tr class=\"BdT Bdc($seperatorColor) Ta(end) Fz(s) Whs(nw)\" data-reactid=\"516\"><td class=\"Py(10px) Ta(start) Pend(10px)\" data-reactid=\"517\"><span data-reactid=\"518\">Jun 01, 2018</span></td><td class=\"Py(10px) Pstart(10px)\" data-reactid=\"519\"><span data-reactid=\"520\">1,637.03</span></td><td class=\"Py(10px) Pstart(10px)\" data-reactid=\"521\"><span data-reactid=\"522\">1,763.10</span></td><td class=\"Py(10px) Pstart(10px)\" data-reactid=\"523\"><span data-reactid=\"524\">1,635.09</span></td><td class=\"Py(10px) Pstart(10px)\" data-reactid=\"525\"><span data-reactid=\"526\">1,699.80</span></td><td class=\"Py(10px) Pstart(10px)\" data-reactid=\"527\"><span data-reactid=\"528\">1,699.80</span></td><td class=\"Py(10px) Pstart(10px)\" data-reactid=\"529\"><span data-reactid=\"530\">85,941,300</span></td></tr><tr class=\"BdT Bdc($seperatorColor) Ta(end) Fz(s) Whs(nw)\" data-reactid=\"531\"><td class=\"Py(10px) Ta(start) Pend(10px)\" data-reactid=\"532\"><span data-reactid=\"533\">May 01, 2018</span></td><td class=\"Py(10px) Pstart(10px)\" data-reactid=\"534\"><span data-reactid=\"535\">1,563.22</span></td><td class=\"Py(10px) Pstart(10px)\" data-reactid=\"536\"><span data-reactid=\"537\">1,635.00</span></td><td class=\"Py(10px) Pstart(10px)\" data-reactid=\"538\"><span data-reactid=\"539\">1,546.02</span></td><td class=\"Py(10px) Pstart(10px)\" data-reactid=\"540\"><span data-reactid=\"541\">1,629.62</span></td><td class=\"Py(10px) Pstart(10px)\" data-reactid=\"542\"><span data-reactid=\"543\">1,629.62</span></td><td class=\"Py(10px) Pstart(10px)\" data-reactid=\"544\"><span data-reactid=\"545\">71,615,500</span></td></tr><tr class=\"BdT Bdc($seperatorColor) Ta(end) Fz(s) Whs(nw)\" data-reactid=\"546\"><td class=\"Py(10px) Ta(start) Pend(10px)\" data-reactid=\"547\"><span data-reactid=\"548\">Apr 01, 2018</span></td><td class=\"Py(10px) Pstart(10px)\" data-reactid=\"549\"><span data-reactid=\"550\">1,417.62</span></td><td class=\"Py(10px) Pstart(10px)\" data-reactid=\"551\"><span data-reactid=\"552\">1,638.10</span></td><td class=\"Py(10px) Pstart(10px)\" data-reactid=\"553\"><span data-reactid=\"554\">1,352.88</span></td><td class=\"Py(10px) Pstart(10px)\" data-reactid=\"555\"><span data-reactid=\"556\">1,566.13</span></td><td class=\"Py(10px) Pstart(10px)\" data-reactid=\"557\"><span data-reactid=\"558\">1,566.13</span></td><td class=\"Py(10px) Pstart(10px)\" data-reactid=\"559\"><span data-reactid=\"560\">129,919,600</span></td></tr><tr class=\"BdT Bdc($seperatorColor) Ta(end) Fz(s) Whs(nw)\" data-reactid=\"561\"><td class=\"Py(10px) Ta(start) Pend(10px)\" data-reactid=\"562\"><span data-reactid=\"563\">Mar 01, 2018</span></td><td class=\"Py(10px) Pstart(10px)\" data-reactid=\"564\"><span data-reactid=\"565\">1,513.60</span></td><td class=\"Py(10px) Pstart(10px)\" data-reactid=\"566\"><span data-reactid=\"567\">1,617.54</span></td><td class=\"Py(10px) Pstart(10px)\" data-reactid=\"568\"><span data-reactid=\"569\">1,365.20</span></td><td class=\"Py(10px) Pstart(10px)\" data-reactid=\"570\"><span data-reactid=\"571\">1,447.34</span></td><td class=\"Py(10px) Pstart(10px)\" data-reactid=\"572\"><span data-reactid=\"573\">1,447.34</span></td><td class=\"Py(10px) Pstart(10px)\" data-reactid=\"574\"><span data-reactid=\"575\">130,400,100</span></td></tr><tr class=\"BdT Bdc($seperatorColor) Ta(end) Fz(s) Whs(nw)\" data-reactid=\"576\"><td class=\"Py(10px) Ta(start) Pend(10px)\" data-reactid=\"577\"><span data-reactid=\"578\">Feb 01, 2018</span></td><td class=\"Py(10px) Pstart(10px)\" data-reactid=\"579\"><span data-reactid=\"580\">1,445.00</span></td><td class=\"Py(10px) Pstart(10px)\" data-reactid=\"581\"><span data-reactid=\"582\">1,528.70</span></td><td class=\"Py(10px) Pstart(10px)\" data-reactid=\"583\"><span data-reactid=\"584\">1,265.93</span></td><td class=\"Py(10px) Pstart(10px)\" data-reactid=\"585\"><span data-reactid=\"586\">1,512.45</span></td><td class=\"Py(10px) Pstart(10px)\" data-reactid=\"587\"><span data-reactid=\"588\">1,512.45</span></td><td class=\"Py(10px) Pstart(10px)\" data-reactid=\"589\"><span data-reactid=\"590\">137,784,000</span></td></tr><tr class=\"BdT Bdc($seperatorColor) Ta(end) Fz(s) Whs(nw)\" data-reactid=\"591\"><td class=\"Py(10px) Ta(start) Pend(10px)\" data-reactid=\"592\"><span data-reactid=\"593\">Jan 01, 2018</span></td><td class=\"Py(10px) Pstart(10px)\" data-reactid=\"594\"><span data-reactid=\"595\">1,172.00</span></td><td class=\"Py(10px) Pstart(10px)\" data-reactid=\"596\"><span data-reactid=\"597\">1,472.58</span></td><td class=\"Py(10px) Pstart(10px)\" data-reactid=\"598\"><span data-reactid=\"599\">1,170.51</span></td><td class=\"Py(10px) Pstart(10px)\" data-reactid=\"600\"><span data-reactid=\"601\">1,450.89</span></td><td class=\"Py(10px) Pstart(10px)\" data-reactid=\"602\"><span data-reactid=\"603\">1,450.89</span></td><td class=\"Py(10px) Pstart(10px)\" data-reactid=\"604\"><span data-reactid=\"605\">96,371,200</span></td></tr><tr class=\"BdT Bdc($seperatorColor) Ta(end) Fz(s) Whs(nw)\" data-reactid=\"606\"><td class=\"Py(10px) Ta(start) Pend(10px)\" data-reactid=\"607\"><span data-reactid=\"608\">Dec 01, 2017</span></td><td class=\"Py(10px) Pstart(10px)\" data-reactid=\"609\"><span data-reactid=\"610\">1,172.05</span></td><td class=\"Py(10px) Pstart(10px)\" data-reactid=\"611\"><span data-reactid=\"612\">1,194.78</span></td><td class=\"Py(10px) Pstart(10px)\" data-reactid=\"613\"><span data-reactid=\"614\">1,124.74</span></td><td class=\"Py(10px) Pstart(10px)\" data-reactid=\"615\"><span data-reactid=\"616\">1,169.47</span></td><td class=\"Py(10px) Pstart(10px)\" data-reactid=\"617\"><span data-reactid=\"618\">1,169.47</span></td><td class=\"Py(10px) Pstart(10px)\" data-reactid=\"619\"><span data-reactid=\"620\">57,760,200</span></td></tr><tr class=\"BdT Bdc($seperatorColor) Ta(end) Fz(s) Whs(nw)\" data-reactid=\"621\"><td class=\"Py(10px) Ta(start) Pend(10px)\" data-reactid=\"622\"><span data-reactid=\"623\">Nov 01, 2017</span></td><td class=\"Py(10px) Pstart(10px)\" data-reactid=\"624\"><span data-reactid=\"625\">1,105.40</span></td><td class=\"Py(10px) Pstart(10px)\" data-reactid=\"626\"><span data-reactid=\"627\">1,213.41</span></td><td class=\"Py(10px) Pstart(10px)\" data-reactid=\"628\"><span data-reactid=\"629\">1,086.87</span></td><td class=\"Py(10px) Pstart(10px)\" data-reactid=\"630\"><span data-reactid=\"631\">1,176.75</span></td><td class=\"Py(10px) Pstart(10px)\" data-reactid=\"632\"><span data-reactid=\"633\">1,176.75</span></td><td class=\"Py(10px) Pstart(10px)\" data-reactid=\"634\"><span data-reactid=\"635\">77,165,000</span></td></tr><tr class=\"BdT Bdc($seperatorColor) Ta(end) Fz(s) Whs(nw)\" data-reactid=\"636\"><td class=\"Py(10px) Ta(start) Pend(10px)\" data-reactid=\"637\"><span data-reactid=\"638\">Oct 01, 2017</span></td><td class=\"Py(10px) Pstart(10px)\" data-reactid=\"639\"><span data-reactid=\"640\">964.00</span></td><td class=\"Py(10px) Pstart(10px)\" data-reactid=\"641\"><span data-reactid=\"642\">1,122.79</span></td><td class=\"Py(10px) Pstart(10px)\" data-reactid=\"643\"><span data-reactid=\"644\">950.37</span></td><td class=\"Py(10px) Pstart(10px)\" data-reactid=\"645\"><span data-reactid=\"646\">1,105.28</span></td><td class=\"Py(10px) Pstart(10px)\" data-reactid=\"647\"><span data-reactid=\"648\">1,105.28</span></td><td class=\"Py(10px) Pstart(10px)\" data-reactid=\"649\"><span data-reactid=\"650\">83,334,100</span></td></tr><tr class=\"BdT Bdc($seperatorColor) Ta(end) Fz(s) Whs(nw)\" data-reactid=\"651\"><td class=\"Py(10px) Ta(start) Pend(10px)\" data-reactid=\"652\"><span data-reactid=\"653\">Sep 01, 2017</span></td><td class=\"Py(10px) Pstart(10px)\" data-reactid=\"654\"><span data-reactid=\"655\">984.20</span></td><td class=\"Py(10px) Pstart(10px)\" data-reactid=\"656\"><span data-reactid=\"657\">1,000.00</span></td><td class=\"Py(10px) Pstart(10px)\" data-reactid=\"658\"><span data-reactid=\"659\">931.75</span></td><td class=\"Py(10px) Pstart(10px)\" data-reactid=\"660\"><span data-reactid=\"661\">961.35</span></td><td class=\"Py(10px) Pstart(10px)\" data-reactid=\"662\"><span data-reactid=\"663\">961.35</span></td><td class=\"Py(10px) Pstart(10px)\" data-reactid=\"664\"><span data-reactid=\"665\">59,291,800</span></td></tr><tr class=\"BdT Bdc($seperatorColor) Ta(end) Fz(s) Whs(nw)\" data-reactid=\"666\"><td class=\"Py(10px) Ta(start) Pend(10px)\" data-reactid=\"667\"><span data-reactid=\"668\">Aug 01, 2017</span></td><td class=\"Py(10px) Pstart(10px)\" data-reactid=\"669\"><span data-reactid=\"670\">996.11</span></td><td class=\"Py(10px) Pstart(10px)\" data-reactid=\"671\"><span data-reactid=\"672\">1,006.40</span></td><td class=\"Py(10px) Pstart(10px)\" data-reactid=\"673\"><span data-reactid=\"674\">936.33</span></td><td class=\"Py(10px) Pstart(10px)\" data-reactid=\"675\"><span data-reactid=\"676\">980.60</span></td><td class=\"Py(10px) Pstart(10px)\" data-reactid=\"677\"><span data-reactid=\"678\">980.60</span></td><td class=\"Py(10px) Pstart(10px)\" data-reactid=\"679\"><span data-reactid=\"680\">77,391,800</span></td></tr><tr class=\"BdT Bdc($seperatorColor) Ta(end) Fz(s) Whs(nw)\" data-reactid=\"681\"><td class=\"Py(10px) Ta(start) Pend(10px)\" data-reactid=\"682\"><span data-reactid=\"683\">Jul 01, 2017</span></td><td class=\"Py(10px) Pstart(10px)\" data-reactid=\"684\"><span data-reactid=\"685\">972.79</span></td><td class=\"Py(10px) Pstart(10px)\" data-reactid=\"686\"><span data-reactid=\"687\">1,083.31</span></td><td class=\"Py(10px) Pstart(10px)\" data-reactid=\"688\"><span data-reactid=\"689\">951.00</span></td><td class=\"Py(10px) Pstart(10px)\" data-reactid=\"690\"><span data-reactid=\"691\">987.78</span></td><td class=\"Py(10px) Pstart(10px)\" data-reactid=\"692\"><span data-reactid=\"693\">987.78</span></td><td class=\"Py(10px) Pstart(10px)\" data-reactid=\"694\"><span data-reactid=\"695\">78,812,400</span></td></tr><tr class=\"BdT Bdc($seperatorColor) Ta(end) Fz(s) Whs(nw)\" data-reactid=\"696\"><td class=\"Py(10px) Ta(start) Pend(10px)\" data-reactid=\"697\"><span data-reactid=\"698\">Jun 01, 2017</span></td><td class=\"Py(10px) Pstart(10px)\" data-reactid=\"699\"><span data-reactid=\"700\">998.59</span></td><td class=\"Py(10px) Pstart(10px)\" data-reactid=\"701\"><span data-reactid=\"702\">1,017.00</span></td><td class=\"Py(10px) Pstart(10px)\" data-reactid=\"703\"><span data-reactid=\"704\">927.00</span></td><td class=\"Py(10px) Pstart(10px)\" data-reactid=\"705\"><span data-reactid=\"706\">968.00</span></td><td class=\"Py(10px) Pstart(10px)\" data-reactid=\"707\"><span data-reactid=\"708\">968.00</span></td><td class=\"Py(10px) Pstart(10px)\" data-reactid=\"709\"><span data-reactid=\"710\">96,135,400</span></td></tr><tr class=\"BdT Bdc($seperatorColor) Ta(end) Fz(s) Whs(nw)\" data-reactid=\"711\"><td class=\"Py(10px) Ta(start) Pend(10px)\" data-reactid=\"712\"><span data-reactid=\"713\">May 01, 2017</span></td><td class=\"Py(10px) Pstart(10px)\" data-reactid=\"714\"><span data-reactid=\"715\">927.80</span></td><td class=\"Py(10px) Pstart(10px)\" data-reactid=\"716\"><span data-reactid=\"717\">1,001.20</span></td><td class=\"Py(10px) Pstart(10px)\" data-reactid=\"718\"><span data-reactid=\"719\">927.80</span></td><td class=\"Py(10px) Pstart(10px)\" data-reactid=\"720\"><span data-reactid=\"721\">994.62</span></td><td class=\"Py(10px) Pstart(10px)\" data-reactid=\"722\"><span data-reactid=\"723\">994.62</span></td><td class=\"Py(10px) Pstart(10px)\" data-reactid=\"724\"><span data-reactid=\"725\">76,202,000</span></td></tr><tr class=\"BdT Bdc($seperatorColor) Ta(end) Fz(s) Whs(nw)\" data-reactid=\"726\"><td class=\"Py(10px) Ta(start) Pend(10px)\" data-reactid=\"727\"><span data-reactid=\"728\">Apr 01, 2017</span></td><td class=\"Py(10px) Pstart(10px)\" data-reactid=\"729\"><span data-reactid=\"730\">888.00</span></td><td class=\"Py(10px) Pstart(10px)\" data-reactid=\"731\"><span data-reactid=\"732\">949.59</span></td><td class=\"Py(10px) Pstart(10px)\" data-reactid=\"733\"><span data-reactid=\"734\">884.49</span></td><td class=\"Py(10px) Pstart(10px)\" data-reactid=\"735\"><span data-reactid=\"736\">924.99</span></td><td class=\"Py(10px) Pstart(10px)\" data-reactid=\"737\"><span data-reactid=\"738\">924.99</span></td><td class=\"Py(10px) Pstart(10px)\" data-reactid=\"739\"><span data-reactid=\"740\">73,539,700</span></td></tr><tr class=\"BdT Bdc($seperatorColor) Ta(end) Fz(s) Whs(nw)\" data-reactid=\"741\"><td class=\"Py(10px) Ta(start) Pend(10px)\" data-reactid=\"742\"><span data-reactid=\"743\">Mar 01, 2017</span></td><td class=\"Py(10px) Pstart(10px)\" data-reactid=\"744\"><span data-reactid=\"745\">853.05</span></td><td class=\"Py(10px) Pstart(10px)\" data-reactid=\"746\"><span data-reactid=\"747\">890.35</span></td><td class=\"Py(10px) Pstart(10px)\" data-reactid=\"748\"><span data-reactid=\"749\">833.50</span></td><td class=\"Py(10px) Pstart(10px)\" data-reactid=\"750\"><span data-reactid=\"751\">886.54</span></td><td class=\"Py(10px) Pstart(10px)\" data-reactid=\"752\"><span data-reactid=\"753\">886.54</span></td><td class=\"Py(10px) Pstart(10px)\" data-reactid=\"754\"><span data-reactid=\"755\">60,710,700</span></td></tr><tr class=\"BdT Bdc($seperatorColor) Ta(end) Fz(s) Whs(nw)\" data-reactid=\"756\"><td class=\"Py(10px) Ta(start) Pend(10px)\" data-reactid=\"757\"><span data-reactid=\"758\">Feb 01, 2017</span></td><td class=\"Py(10px) Pstart(10px)\" data-reactid=\"759\"><span data-reactid=\"760\">829.21</span></td><td class=\"Py(10px) Pstart(10px)\" data-reactid=\"761\"><span data-reactid=\"762\">860.86</span></td><td class=\"Py(10px) Pstart(10px)\" data-reactid=\"763\"><span data-reactid=\"764\">803.00</span></td><td class=\"Py(10px) Pstart(10px)\" data-reactid=\"765\"><span data-reactid=\"766\">845.04</span></td><td class=\"Py(10px) Pstart(10px)\" data-reactid=\"767\"><span data-reactid=\"768\">845.04</span></td><td class=\"Py(10px) Pstart(10px)\" data-reactid=\"769\"><span data-reactid=\"770\">71,748,300</span></td></tr><tr class=\"BdT Bdc($seperatorColor) Ta(end) Fz(s) Whs(nw)\" data-reactid=\"771\"><td class=\"Py(10px) Ta(start) Pend(10px)\" data-reactid=\"772\"><span data-reactid=\"773\">Jan 01, 2017</span></td><td class=\"Py(10px) Pstart(10px)\" data-reactid=\"774\"><span data-reactid=\"775\">757.92</span></td><td class=\"Py(10px) Pstart(10px)\" data-reactid=\"776\"><span data-reactid=\"777\">843.84</span></td><td class=\"Py(10px) Pstart(10px)\" data-reactid=\"778\"><span data-reactid=\"779\">747.70</span></td><td class=\"Py(10px) Pstart(10px)\" data-reactid=\"780\"><span data-reactid=\"781\">823.48</span></td><td class=\"Py(10px) Pstart(10px)\" data-reactid=\"782\"><span data-reactid=\"783\">823.48</span></td><td class=\"Py(10px) Pstart(10px)\" data-reactid=\"784\"><span data-reactid=\"785\">70,614,000</span></td></tr><tr class=\"BdT Bdc($seperatorColor) Ta(end) Fz(s) Whs(nw)\" data-reactid=\"786\"><td class=\"Py(10px) Ta(start) Pend(10px)\" data-reactid=\"787\"><span data-reactid=\"788\">Dec 01, 2016</span></td><td class=\"Py(10px) Pstart(10px)\" data-reactid=\"789\"><span data-reactid=\"790\">752.41</span></td><td class=\"Py(10px) Pstart(10px)\" data-reactid=\"791\"><span data-reactid=\"792\">782.46</span></td><td class=\"Py(10px) Pstart(10px)\" data-reactid=\"793\"><span data-reactid=\"794\">736.70</span></td><td class=\"Py(10px) Pstart(10px)\" data-reactid=\"795\"><span data-reactid=\"796\">749.87</span></td><td class=\"Py(10px) Pstart(10px)\" data-reactid=\"797\"><span data-reactid=\"798\">749.87</span></td><td class=\"Py(10px) Pstart(10px)\" data-reactid=\"799\"><span data-reactid=\"800\">73,660,200</span></td></tr><tr class=\"BdT Bdc($seperatorColor) Ta(end) Fz(s) Whs(nw)\" data-reactid=\"801\"><td class=\"Py(10px) Ta(start) Pend(10px)\" data-reactid=\"802\"><span data-reactid=\"803\">Nov 01, 2016</span></td><td class=\"Py(10px) Pstart(10px)\" data-reactid=\"804\"><span data-reactid=\"805\">799.00</span></td><td class=\"Py(10px) Pstart(10px)\" data-reactid=\"806\"><span data-reactid=\"807\">800.84</span></td><td class=\"Py(10px) Pstart(10px)\" data-reactid=\"808\"><span data-reactid=\"809\">710.10</span></td><td class=\"Py(10px) Pstart(10px)\" data-reactid=\"810\"><span data-reactid=\"811\">750.57</span></td><td class=\"Py(10px) Pstart(10px)\" data-reactid=\"812\"><span data-reactid=\"813\">750.57</span></td><td class=\"Py(10px) Pstart(10px)\" data-reactid=\"814\"><span data-reactid=\"815\">110,085,900</span></td></tr><tr class=\"BdT Bdc($seperatorColor) Ta(end) Fz(s) Whs(nw)\" data-reactid=\"816\"><td class=\"Py(10px) Ta(start) Pend(10px)\" data-reactid=\"817\"><span data-reactid=\"818\">Oct 01, 2016</span></td><td class=\"Py(10px) Pstart(10px)\" data-reactid=\"819\"><span data-reactid=\"820\">836.00</span></td><td class=\"Py(10px) Pstart(10px)\" data-reactid=\"821\"><span data-reactid=\"822\">847.21</span></td><td class=\"Py(10px) Pstart(10px)\" data-reactid=\"823\"><span data-reactid=\"824\">774.61</span></td><td class=\"Py(10px) Pstart(10px)\" data-reactid=\"825\"><span data-reactid=\"826\">789.82</span></td><td class=\"Py(10px) Pstart(10px)\" data-reactid=\"827\"><span data-reactid=\"828\">789.82</span></td><td class=\"Py(10px) Pstart(10px)\" data-reactid=\"829\"><span data-reactid=\"830\">77,063,800</span></td></tr><tr class=\"BdT Bdc($seperatorColor) Ta(end) Fz(s) Whs(nw)\" data-reactid=\"831\"><td class=\"Py(10px) Ta(start) Pend(10px)\" data-reactid=\"832\"><span data-reactid=\"833\">Sep 01, 2016</span></td><td class=\"Py(10px) Pstart(10px)\" data-reactid=\"834\"><span data-reactid=\"835\">770.90</span></td><td class=\"Py(10px) Pstart(10px)\" data-reactid=\"836\"><span data-reactid=\"837\">839.95</span></td><td class=\"Py(10px) Pstart(10px)\" data-reactid=\"838\"><span data-reactid=\"839\">756.00</span></td><td class=\"Py(10px) Pstart(10px)\" data-reactid=\"840\"><span data-reactid=\"841\">837.31</span></td><td class=\"Py(10px) Pstart(10px)\" data-reactid=\"842\"><span data-reactid=\"843\">837.31</span></td><td class=\"Py(10px) Pstart(10px)\" data-reactid=\"844\"><span data-reactid=\"845\">67,335,700</span></td></tr><tr class=\"BdT Bdc($seperatorColor) Ta(end) Fz(s) Whs(nw)\" data-reactid=\"846\"><td class=\"Py(10px) Ta(start) Pend(10px)\" data-reactid=\"847\"><span data-reactid=\"848\">Aug 01, 2016</span></td><td class=\"Py(10px) Pstart(10px)\" data-reactid=\"849\"><span data-reactid=\"850\">759.87</span></td><td class=\"Py(10px) Pstart(10px)\" data-reactid=\"851\"><span data-reactid=\"852\">774.98</span></td><td class=\"Py(10px) Pstart(10px)\" data-reactid=\"853\"><span data-reactid=\"854\">750.35</span></td><td class=\"Py(10px) Pstart(10px)\" data-reactid=\"855\"><span data-reactid=\"856\">769.16</span></td><td class=\"Py(10px) Pstart(10px)\" data-reactid=\"857\"><span data-reactid=\"858\">769.16</span></td><td class=\"Py(10px) Pstart(10px)\" data-reactid=\"859\"><span data-reactid=\"860\">50,000,400</span></td></tr><tr class=\"BdT Bdc($seperatorColor) Ta(end) Fz(s) Whs(nw)\" data-reactid=\"861\"><td class=\"Py(10px) Ta(start) Pend(10px)\" data-reactid=\"862\"><span data-reactid=\"863\">Jul 01, 2016</span></td><td class=\"Py(10px) Pstart(10px)\" data-reactid=\"864\"><span data-reactid=\"865\">717.32</span></td><td class=\"Py(10px) Pstart(10px)\" data-reactid=\"866\"><span data-reactid=\"867\">766.00</span></td><td class=\"Py(10px) Pstart(10px)\" data-reactid=\"868\"><span data-reactid=\"869\">716.54</span></td><td class=\"Py(10px) Pstart(10px)\" data-reactid=\"870\"><span data-reactid=\"871\">758.81</span></td><td class=\"Py(10px) Pstart(10px)\" data-reactid=\"872\"><span data-reactid=\"873\">758.81</span></td><td class=\"Py(10px) Pstart(10px)\" data-reactid=\"874\"><span data-reactid=\"875\">68,635,500</span></td></tr><tr class=\"BdT Bdc($seperatorColor) Ta(end) Fz(s) Whs(nw)\" data-reactid=\"876\"><td class=\"Py(10px) Ta(start) Pend(10px)\" data-reactid=\"877\"><span data-reactid=\"878\">Jun 01, 2016</span></td><td class=\"Py(10px) Pstart(10px)\" data-reactid=\"879\"><span data-reactid=\"880\">720.90</span></td><td class=\"Py(10px) Pstart(10px)\" data-reactid=\"881\"><span data-reactid=\"882\">731.50</span></td><td class=\"Py(10px) Pstart(10px)\" data-reactid=\"883\"><span data-reactid=\"884\">682.12</span></td><td class=\"Py(10px) Pstart(10px)\" data-reactid=\"885\"><span data-reactid=\"886\">715.62</span></td><td class=\"Py(10px) Pstart(10px)\" data-reactid=\"887\"><span data-reactid=\"888\">715.62</span></td><td class=\"Py(10px) Pstart(10px)\" data-reactid=\"889\"><span data-reactid=\"890\">74,540,900</span></td></tr><tr class=\"BdT Bdc($seperatorColor) Ta(end) Fz(s) Whs(nw)\" data-reactid=\"891\"><td class=\"Py(10px) Ta(start) Pend(10px)\" data-reactid=\"892\"><span data-reactid=\"893\">May 01, 2016</span></td><td class=\"Py(10px) Pstart(10px)\" data-reactid=\"894\"><span data-reactid=\"895\">663.92</span></td><td class=\"Py(10px) Pstart(10px)\" data-reactid=\"896\"><span data-reactid=\"897\">724.23</span></td><td class=\"Py(10px) Pstart(10px)\" data-reactid=\"898\"><span data-reactid=\"899\">656.00</span></td><td class=\"Py(10px) Pstart(10px)\" data-reactid=\"900\"><span data-reactid=\"901\">722.79</span></td><td class=\"Py(10px) Pstart(10px)\" data-reactid=\"902\"><span data-reactid=\"903\">722.79</span></td><td class=\"Py(10px) Pstart(10px)\" data-reactid=\"904\"><span data-reactid=\"905\">90,614,500</span></td></tr><tr class=\"BdT Bdc($seperatorColor) Ta(end) Fz(s) Whs(nw)\" data-reactid=\"906\"><td class=\"Py(10px) Ta(start) Pend(10px)\" data-reactid=\"907\"><span data-reactid=\"908\">Apr 01, 2016</span></td><td class=\"Py(10px) Pstart(10px)\" data-reactid=\"909\"><span data-reactid=\"910\">590.49</span></td><td class=\"Py(10px) Pstart(10px)\" data-reactid=\"911\"><span data-reactid=\"912\">669.98</span></td><td class=\"Py(10px) Pstart(10px)\" data-reactid=\"913\"><span data-reactid=\"914\">585.25</span></td><td class=\"Py(10px) Pstart(10px)\" data-reactid=\"915\"><span data-reactid=\"916\">659.59</span></td><td class=\"Py(10px) Pstart(10px)\" data-reactid=\"917\"><span data-reactid=\"918\">659.59</span></td><td class=\"Py(10px) Pstart(10px)\" data-reactid=\"919\"><span data-reactid=\"920\">78,464,200</span></td></tr><tr class=\"BdT Bdc($seperatorColor) Ta(end) Fz(s) Whs(nw)\" data-reactid=\"921\"><td class=\"Py(10px) Ta(start) Pend(10px)\" data-reactid=\"922\"><span data-reactid=\"923\">Mar 01, 2016</span></td><td class=\"Py(10px) Pstart(10px)\" data-reactid=\"924\"><span data-reactid=\"925\">556.29</span></td><td class=\"Py(10px) Pstart(10px)\" data-reactid=\"926\"><span data-reactid=\"927\">603.24</span></td><td class=\"Py(10px) Pstart(10px)\" data-reactid=\"928\"><span data-reactid=\"929\">538.58</span></td><td class=\"Py(10px) Pstart(10px)\" data-reactid=\"930\"><span data-reactid=\"931\">593.64</span></td><td class=\"Py(10px) Pstart(10px)\" data-reactid=\"932\"><span data-reactid=\"933\">593.64</span></td><td class=\"Py(10px) Pstart(10px)\" data-reactid=\"934\"><span data-reactid=\"935\">94,009,500</span></td></tr><tr class=\"BdT Bdc($seperatorColor) Ta(end) Fz(s) Whs(nw)\" data-reactid=\"936\"><td class=\"Py(10px) Ta(start) Pend(10px)\" data-reactid=\"937\"><span data-reactid=\"938\">Feb 01, 2016</span></td><td class=\"Py(10px) Pstart(10px)\" data-reactid=\"939\"><span data-reactid=\"940\">578.15</span></td><td class=\"Py(10px) Pstart(10px)\" data-reactid=\"941\"><span data-reactid=\"942\">581.80</span></td><td class=\"Py(10px) Pstart(10px)\" data-reactid=\"943\"><span data-reactid=\"944\">474.00</span></td><td class=\"Py(10px) Pstart(10px)\" data-reactid=\"945\"><span data-reactid=\"946\">552.52</span></td><td class=\"Py(10px) Pstart(10px)\" data-reactid=\"947\"><span data-reactid=\"948\">552.52</span></td><td class=\"Py(10px) Pstart(10px)\" data-reactid=\"949\"><span data-reactid=\"950\">124,144,800</span></td></tr><tr class=\"BdT Bdc($seperatorColor) Ta(end) Fz(s) Whs(nw)\" data-reactid=\"951\"><td class=\"Py(10px) Ta(start) Pend(10px)\" data-reactid=\"952\"><span data-reactid=\"953\">Jan 01, 2016</span></td><td class=\"Py(10px) Pstart(10px)\" data-reactid=\"954\"><span data-reactid=\"955\">656.29</span></td><td class=\"Py(10px) Pstart(10px)\" data-reactid=\"956\"><span data-reactid=\"957\">657.72</span></td><td class=\"Py(10px) Pstart(10px)\" data-reactid=\"958\"><span data-reactid=\"959\">547.18</span></td><td class=\"Py(10px) Pstart(10px)\" data-reactid=\"960\"><span data-reactid=\"961\">587.00</span></td><td class=\"Py(10px) Pstart(10px)\" data-reactid=\"962\"><span data-reactid=\"963\">587.00</span></td><td class=\"Py(10px) Pstart(10px)\" data-reactid=\"964\"><span data-reactid=\"965\">130,200,900</span></td></tr></tbody>]"
      ]
     },
     "execution_count": 39,
     "metadata": {},
     "output_type": "execute_result"
    }
   ],
   "source": [
    "soups.find_all(\"tbody\").te\n",
    "# for table in tables:\n",
    "#     if \"Tesla Quarterly Revenue\" in table.text:\n",
    "#         revenue_table = table\n",
    "#         break\n",
    "\n",
    "# for row in revenue_table.find(\"tbody\").find_all(\"tr\"):\n",
    "#     cols = row.find_all(\"td\")\n",
    "#     if len(cols) == 2: \n",
    "#         date = cols[0].text.strip()\n",
    "#         revenue = cols[1].text.strip()\n",
    "      \n",
    "#         tesla_revenue = pd.concat([tesla_revenue, pd.DataFrame({\"Date\": [date], \"Revenue\": [revenue]})], ignore_index=True)\n",
    "\n",
    "# tesla_revenue[\"Revenue\"] = tesla_revenue[\"Revenue\"].str.replace(\"$\", \"\").str.replace(\",\", \"\")\n",
    "\n",
    "# tesla_revenue.dropna(subset=[\"Revenue\"], inplace=True)\n",
    "\n",
    "# print(tesla_revenue.head())"
   ]
  },
  {
   "cell_type": "markdown",
   "id": "5af87283-9b07-465d-ba26-1c68da55eae6",
   "metadata": {},
   "source": [
    "Execute the following line to remove the comma and dollar sign from the `Revenue` column. \n"
   ]
  },
  {
   "cell_type": "code",
   "execution_count": 35,
   "id": "e5f4f09e-b429-4c8e-a14c-8db4906be585",
   "metadata": {},
   "outputs": [
    {
     "name": "stderr",
     "output_type": "stream",
     "text": [
      "<>:1: SyntaxWarning:\n",
      "\n",
      "invalid escape sequence '\\$'\n",
      "\n",
      "<>:1: SyntaxWarning:\n",
      "\n",
      "invalid escape sequence '\\$'\n",
      "\n",
      "C:\\Users\\hasso\\AppData\\Local\\Temp\\ipykernel_8216\\3930153905.py:1: SyntaxWarning:\n",
      "\n",
      "invalid escape sequence '\\$'\n",
      "\n",
      "C:\\Users\\hasso\\AppData\\Local\\Temp\\ipykernel_8216\\3930153905.py:1: SyntaxWarning:\n",
      "\n",
      "invalid escape sequence '\\$'\n",
      "\n"
     ]
    },
    {
     "ename": "NameError",
     "evalue": "name 'tesla_revenue' is not defined",
     "output_type": "error",
     "traceback": [
      "\u001b[31m---------------------------------------------------------------------------\u001b[39m",
      "\u001b[31mNameError\u001b[39m                                 Traceback (most recent call last)",
      "\u001b[36mCell\u001b[39m\u001b[36m \u001b[39m\u001b[32mIn[35]\u001b[39m\u001b[32m, line 1\u001b[39m\n\u001b[32m----> \u001b[39m\u001b[32m1\u001b[39m tesla_revenue[\u001b[33m\"\u001b[39m\u001b[33mRevenue\u001b[39m\u001b[33m\"\u001b[39m] = \u001b[43mtesla_revenue\u001b[49m[\u001b[33m'\u001b[39m\u001b[33mRevenue\u001b[39m\u001b[33m'\u001b[39m].str.replace(\u001b[33m'\u001b[39m\u001b[33m,|\u001b[39m\u001b[33m\\\u001b[39m\u001b[33m$\u001b[39m\u001b[33m'\u001b[39m,\u001b[33m\"\u001b[39m\u001b[33m\"\u001b[39m,regex=\u001b[38;5;28;01mTrue\u001b[39;00m)\n",
      "\u001b[31mNameError\u001b[39m: name 'tesla_revenue' is not defined"
     ]
    }
   ],
   "source": [
    "tesla_revenue[\"Revenue\"] = tesla_revenue['Revenue'].str.replace(',|\\$',\"\",regex=True)\n"
   ]
  },
  {
   "cell_type": "markdown",
   "id": "3b1d8a77-fcc9-479d-8366-4ed597db53d4",
   "metadata": {},
   "source": [
    "Execute the following lines to remove an null or empty strings in the Revenue column.\n"
   ]
  },
  {
   "cell_type": "code",
   "execution_count": null,
   "id": "af5619b3-475e-414e-9759-70f5e5067221",
   "metadata": {},
   "outputs": [],
   "source": [
    "tesla_revenue.dropna(inplace=True)\n",
    "\n",
    "tesla_revenue = tesla_revenue[tesla_revenue['Revenue'] != \"\"]"
   ]
  },
  {
   "cell_type": "markdown",
   "id": "d1db9eb2-1c8d-47a7-8606-b17250d1c676",
   "metadata": {},
   "source": [
    "Display the last 5 row of the `tesla_revenue` dataframe using the `tail` function. Take a screenshot of the results.\n"
   ]
  },
  {
   "cell_type": "code",
   "execution_count": null,
   "id": "4f21c047-5c9e-4e13-9b27-2a9309ef7a1b",
   "metadata": {},
   "outputs": [],
   "source": []
  },
  {
   "cell_type": "markdown",
   "id": "7a1ca358-ca2e-48b6-9ffe-ed8f975fd655",
   "metadata": {},
   "source": [
    "## Question 3: Use yfinance to Extract Stock Data\n"
   ]
  },
  {
   "cell_type": "markdown",
   "id": "f8016052-ee09-45d8-964c-78fb21b32112",
   "metadata": {},
   "source": [
    "Using the `Ticker` function enter the ticker symbol of the stock we want to extract data on to create a ticker object. The stock is GameStop and its ticker symbol is `GME`.\n"
   ]
  },
  {
   "cell_type": "code",
   "execution_count": null,
   "id": "f76ab71a-0f4d-4229-b796-fbc706c890d9",
   "metadata": {},
   "outputs": [],
   "source": []
  },
  {
   "cell_type": "markdown",
   "id": "16aa4a70-07c9-41f7-a3a4-c1228ac92a7f",
   "metadata": {},
   "source": [
    "Using the ticker object and the function `history` extract stock information and save it in a dataframe named `gme_data`. Set the `period` parameter to ` \"max\" ` so we get information for the maximum amount of time.\n"
   ]
  },
  {
   "cell_type": "code",
   "execution_count": null,
   "id": "a92f8328-c6f2-4ecd-b5c9-d80e6c8a834f",
   "metadata": {},
   "outputs": [],
   "source": []
  },
  {
   "cell_type": "markdown",
   "id": "411eed8f-d7a0-4517-aa3a-1c4f30fce997",
   "metadata": {},
   "source": [
    "**Reset the index** using the `reset_index(inplace=True)` function on the gme_data DataFrame and display the first five rows of the `gme_data` dataframe using the `head` function. Take a screenshot of the results and code from the beginning of Question 3 to the results below.\n"
   ]
  },
  {
   "cell_type": "code",
   "execution_count": null,
   "id": "180f5749-79af-4ff1-95a0-5d46b9179c7c",
   "metadata": {},
   "outputs": [],
   "source": []
  },
  {
   "cell_type": "markdown",
   "id": "41838623-970a-414c-89bd-866100d4cae9",
   "metadata": {},
   "source": [
    "## Question 4: Use Webscraping to Extract GME Revenue Data\n"
   ]
  },
  {
   "cell_type": "markdown",
   "id": "5c7a1067-26b9-4ad3-935e-15dda58b76df",
   "metadata": {},
   "source": [
    "Use the `requests` library to download the webpage https://cf-courses-data.s3.us.cloud-object-storage.appdomain.cloud/IBMDeveloperSkillsNetwork-PY0220EN-SkillsNetwork/labs/project/stock.html. Save the text of the response as a variable named `html_data_2`.\n"
   ]
  },
  {
   "cell_type": "code",
   "execution_count": null,
   "id": "421ee034-7d55-449f-9e3e-98034aafd6cf",
   "metadata": {},
   "outputs": [],
   "source": []
  },
  {
   "cell_type": "markdown",
   "id": "bbe9cb87-f7c6-431c-b271-3e027f6755f3",
   "metadata": {},
   "source": [
    "Parse the html data using `beautiful_soup` using parser i.e `html5lib` or `html.parser`.\n"
   ]
  },
  {
   "cell_type": "code",
   "execution_count": null,
   "id": "7309fd63-2222-4c43-876a-542c48364eb6",
   "metadata": {},
   "outputs": [],
   "source": []
  },
  {
   "cell_type": "markdown",
   "id": "b86971c6-f29a-496e-885c-569d59936eef",
   "metadata": {},
   "source": [
    "Using `BeautifulSoup` or the `read_html` function extract the table with `GameStop Quarterly Revenue` and store it into a dataframe named `gme_revenue`. The dataframe should have columns `Date` and `Revenue`. Make sure the comma and dollar sign is removed from the `Revenue` column.\n"
   ]
  },
  {
   "cell_type": "markdown",
   "id": "a8ae80c9-4691-4cb1-baaa-a889ad715937",
   "metadata": {},
   "source": [
    "> **Note: Use the method similar to what you did in question 2.**  \n"
   ]
  },
  {
   "cell_type": "markdown",
   "id": "897212e7-c806-4be9-a7ca-7bb341dba097",
   "metadata": {},
   "source": [
    "<details><summary>Click here if you need help locating the table</summary>\n",
    "\n",
    "```\n",
    "    \n",
    "Below is the code to isolate the table, you will now need to loop through the rows and columns like in the previous lab\n",
    "    \n",
    "soup.find_all(\"tbody\")[1]\n",
    "    \n",
    "If you want to use the read_html function the table is located at index 1\n",
    "\n",
    "\n",
    "```\n",
    "\n",
    "</details>\n"
   ]
  },
  {
   "cell_type": "code",
   "execution_count": null,
   "id": "5db9c125-e0a6-40b2-b73e-5118f0393c68",
   "metadata": {},
   "outputs": [],
   "source": []
  },
  {
   "cell_type": "markdown",
   "id": "c1fad662-13e3-42f2-909e-20d3aadfa3e7",
   "metadata": {},
   "source": [
    "Display the last five rows of the `gme_revenue` dataframe using the `tail` function. Take a screenshot of the results.\n"
   ]
  },
  {
   "cell_type": "code",
   "execution_count": null,
   "id": "8c7073e6-1a9f-4cab-8d95-54bee854c40d",
   "metadata": {},
   "outputs": [],
   "source": []
  },
  {
   "cell_type": "markdown",
   "id": "d031b2c2-4831-4229-9c61-486ff5e0820e",
   "metadata": {},
   "source": [
    "## Question 5: Plot Tesla Stock Graph\n"
   ]
  },
  {
   "cell_type": "markdown",
   "id": "f119fe77-6c97-45ad-9385-3bd82fe68d2a",
   "metadata": {},
   "source": [
    "Use the `make_graph` function to graph the Tesla Stock Data, also provide a title for the graph. Note the graph will only show data upto June 2021.\n"
   ]
  },
  {
   "cell_type": "markdown",
   "id": "50f340aa-dd37-4bd6-b038-8ef017681698",
   "metadata": {},
   "source": [
    "<details><summary>Hint</summary>\n",
    "\n",
    "```\n",
    "\n",
    "You just need to invoke the make_graph function with the required parameter to print the graphs.The structure to call the `make_graph` function is `make_graph(tesla_data, tesla_revenue, 'Tesla')`.\n",
    "\n",
    "```\n",
    "    \n",
    "</details>\n"
   ]
  },
  {
   "cell_type": "code",
   "execution_count": null,
   "id": "18e93711-5005-4405-878b-57922036d7bf",
   "metadata": {},
   "outputs": [],
   "source": []
  },
  {
   "cell_type": "markdown",
   "id": "c5f5ee51-a411-47c5-a850-fd7f108f34fd",
   "metadata": {},
   "source": [
    "## Question 6: Plot GameStop Stock Graph\n"
   ]
  },
  {
   "cell_type": "markdown",
   "id": "f2d7adfe-7860-46de-92c7-c5e7a352225b",
   "metadata": {},
   "source": [
    "Use the `make_graph` function to graph the GameStop Stock Data, also provide a title for the graph. The structure to call the `make_graph` function is `make_graph(gme_data, gme_revenue, 'GameStop')`. Note the graph will only show data upto June 2021.\n"
   ]
  },
  {
   "cell_type": "markdown",
   "id": "7036b4cc-4a16-4a8e-a117-b33cc086be62",
   "metadata": {},
   "source": [
    "<details><summary>Hint</summary>\n",
    "\n",
    "```\n",
    "\n",
    "You just need to invoke the make_graph function with the required parameter to print the graphs.The structure to call the `make_graph` function is `make_graph(gme_data, gme_revenue, 'GameStop')`\n",
    "\n",
    "```\n",
    "    \n",
    "</details>\n"
   ]
  },
  {
   "cell_type": "code",
   "execution_count": null,
   "id": "478d190c-18ea-4c43-bd32-80f553b7f50a",
   "metadata": {},
   "outputs": [],
   "source": []
  },
  {
   "cell_type": "markdown",
   "id": "7834c53b-2509-4735-9770-104e4437284d",
   "metadata": {},
   "source": [
    "<h2>About the Authors:</h2> \n",
    "\n",
    "<a href=\"https://www.linkedin.com/in/joseph-s-50398b136/\">Joseph Santarcangelo</a> has a PhD in Electrical Engineering, his research focused on using machine learning, signal processing, and computer vision to determine how videos impact human cognition. Joseph has been working for IBM since he completed his PhD.\n",
    "\n",
    "Azim Hirjani\n"
   ]
  },
  {
   "cell_type": "markdown",
   "id": "03e4cdab-27c4-44c2-acac-43b884e44411",
   "metadata": {},
   "source": [
    "## Change Log\n",
    "\n",
    "| Date (YYYY-MM-DD) | Version | Changed By    | Change Description        |\n",
    "| ----------------- | ------- | ------------- | ------------------------- |\n",
    "| 2022-02-28        | 1.2     | Lakshmi Holla | Changed the URL of GameStop |\n",
    "| 2020-11-10        | 1.1     | Malika Singla | Deleted the Optional part |\n",
    "| 2020-08-27        | 1.0     | Malika Singla | Added lab to GitLab       |\n",
    "\n",
    "<hr>\n",
    "\n",
    "## <h3 align=\"center\"> © IBM Corporation 2020. All rights reserved. <h3/>\n",
    "\n",
    "<p>\n"
   ]
  }
 ],
 "metadata": {
  "kernelspec": {
   "display_name": "Python 3",
   "language": "python",
   "name": "python3"
  },
  "language_info": {
   "codemirror_mode": {
    "name": "ipython",
    "version": 3
   },
   "file_extension": ".py",
   "mimetype": "text/x-python",
   "name": "python",
   "nbconvert_exporter": "python",
   "pygments_lexer": "ipython3",
   "version": "3.13.3"
  },
  "prev_pub_hash": "4232a48da5f304a59b35c5137b1467e9e0b827703c4809cae7dc023ebb91d83f"
 },
 "nbformat": 4,
 "nbformat_minor": 4
}
